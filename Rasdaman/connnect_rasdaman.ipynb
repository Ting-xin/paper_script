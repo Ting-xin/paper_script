{
 "cells": [
  {
   "cell_type": "code",
   "execution_count": 4,
   "metadata": {},
   "outputs": [
    {
     "ename": "ImportError",
     "evalue": "cannot import name 'Rasdapy' from 'rasdapy' (f:\\Anaconda3\\lib\\site-packages\\rasdapy\\__init__.py)",
     "output_type": "error",
     "traceback": [
      "\u001b[1;31m---------------------------------------------------------------------------\u001b[0m",
      "\u001b[1;31mImportError\u001b[0m                               Traceback (most recent call last)",
      "Cell \u001b[1;32mIn[4], line 1\u001b[0m\n\u001b[1;32m----> 1\u001b[0m \u001b[39mfrom\u001b[39;00m \u001b[39mrasdapy\u001b[39;00m \u001b[39mimport\u001b[39;00m Rasdapy\n",
      "\u001b[1;31mImportError\u001b[0m: cannot import name 'Rasdapy' from 'rasdapy' (f:\\Anaconda3\\lib\\site-packages\\rasdapy\\__init__.py)"
     ]
    },
    {
     "name": "stderr",
     "output_type": "stream",
     "text": [
      "Exception in thread Thread-3:\n",
      "Traceback (most recent call last):\n",
      "  File \"f:\\Anaconda3\\lib\\threading.py\", line 932, in _bootstrap_inner\n",
      "    self.run()\n",
      "  File \"f:\\Anaconda3\\lib\\site-packages\\rasdapy\\cores\\utils.py\", line 478, in run\n",
      "    self._target(*self._args)\n",
      "  File \"f:\\Anaconda3\\lib\\site-packages\\rasdapy\\cores\\remote_procedures.py\", line 73, in rasmgr_keep_alive\n",
      "    return stub.KeepAlive(make_rasmgr_keep_alive_req(cuuid), _TIMEOUT_SECONDS)\n",
      "  File \"f:\\Anaconda3\\lib\\site-packages\\grpc\\_channel.py\", line 946, in __call__\n",
      "    return _end_unary_response_blocking(state, call, False, None)\n",
      "  File \"f:\\Anaconda3\\lib\\site-packages\\grpc\\_channel.py\", line 849, in _end_unary_response_blocking\n",
      "    raise _InactiveRpcError(state)\n",
      "grpc._channel._InactiveRpcError: <_InactiveRpcError of RPC that terminated with:\n",
      "\tstatus = StatusCode.UNAVAILABLE\n",
      "\tdetails = \"failed to connect to all addresses; last error: UNAVAILABLE: ipv4:172.21.212.40:7001: WSA Error\"\n",
      "\tdebug_error_string = \"UNKNOWN:failed to connect to all addresses; last error: UNAVAILABLE: ipv4:172.21.212.40:7001: WSA Error {created_time:\"2023-03-04T10:02:26.275558666+00:00\", grpc_status:14}\"\n",
      ">\n"
     ]
    }
   ],
   "source": [
    "from rasdapy.db_connector import DBConnector\n",
    "from rasdapy.query_executor import QueryExecutor\n"
   ]
  },
  {
   "cell_type": "code",
   "execution_count": 3,
   "metadata": {},
   "outputs": [
    {
     "ename": "TypeError",
     "evalue": "__init__() got an unexpected keyword argument 'port_range'",
     "output_type": "error",
     "traceback": [
      "\u001b[1;31m---------------------------------------------------------------------------\u001b[0m",
      "\u001b[1;31mTypeError\u001b[0m                                 Traceback (most recent call last)",
      "Cell \u001b[1;32mIn[3], line 1\u001b[0m\n\u001b[1;32m----> 1\u001b[0m conn \u001b[39m=\u001b[39m DBConnector(\u001b[39m\"\u001b[39;49m\u001b[39m172.21.212.40\u001b[39;49m\u001b[39m\"\u001b[39;49m, \u001b[39m7001\u001b[39;49m, \u001b[39m\"\u001b[39;49m\u001b[39mrasadmin\u001b[39;49m\u001b[39m\"\u001b[39;49m, \u001b[39m\"\u001b[39;49m\u001b[39mrasadmin\u001b[39;49m\u001b[39m\"\u001b[39;49m, port_range\u001b[39m=\u001b[39;49m[\u001b[39m7001\u001b[39;49m])\n",
      "\u001b[1;31mTypeError\u001b[0m: __init__() got an unexpected keyword argument 'port_range'"
     ]
    }
   ],
   "source": [
    "conn = DBConnector(\"172.21.212.40\", 7001, \"rasadmin\", \"rasadmin\", port_range=[7001])\n",
    "\n"
   ]
  },
  {
   "cell_type": "code",
   "execution_count": null,
   "metadata": {},
   "outputs": [],
   "source": [
    "conn.open()"
   ]
  },
  {
   "cell_type": "code",
   "execution_count": null,
   "metadata": {},
   "outputs": [],
   "source": []
  }
 ],
 "metadata": {
  "kernelspec": {
   "display_name": "base",
   "language": "python",
   "name": "python3"
  },
  "language_info": {
   "codemirror_mode": {
    "name": "ipython",
    "version": 3
   },
   "file_extension": ".py",
   "mimetype": "text/x-python",
   "name": "python",
   "nbconvert_exporter": "python",
   "pygments_lexer": "ipython3",
   "version": "3.8.3"
  },
  "orig_nbformat": 4,
  "vscode": {
   "interpreter": {
    "hash": "d12a6980af1de3549060b7b451d48d445ec6b4aaeaf0b0e12a509d2182e95745"
   }
  }
 },
 "nbformat": 4,
 "nbformat_minor": 2
}
