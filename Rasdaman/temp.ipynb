{
 "cells": [
  {
   "cell_type": "code",
   "execution_count": 1,
   "metadata": {},
   "outputs": [
    {
     "ename": "KeyError",
     "evalue": "'GeoTransform'",
     "output_type": "error",
     "traceback": [
      "\u001b[1;31m---------------------------------------------------------------------------\u001b[0m",
      "\u001b[1;31mKeyError\u001b[0m                                  Traceback (most recent call last)",
      "Cell \u001b[1;32mIn[1], line 10\u001b[0m\n\u001b[0;32m      7\u001b[0m variable \u001b[39m=\u001b[39m nc_file[\u001b[39m'\u001b[39m\u001b[39mhex\u001b[39m\u001b[39m'\u001b[39m]\n\u001b[0;32m      9\u001b[0m \u001b[39m# 获取变量的元数据信息\u001b[39;00m\n\u001b[1;32m---> 10\u001b[0m transform \u001b[39m=\u001b[39m Affine\u001b[39m.\u001b[39mfrom_gdal(\u001b[39m*\u001b[39mvariable\u001b[39m.\u001b[39;49mattrs[\u001b[39m'\u001b[39;49m\u001b[39mGeoTransform\u001b[39;49m\u001b[39m'\u001b[39;49m])\n\u001b[0;32m     11\u001b[0m height, width \u001b[39m=\u001b[39m variable\u001b[39m.\u001b[39mshape\n\u001b[0;32m     12\u001b[0m crs \u001b[39m=\u001b[39m variable\u001b[39m.\u001b[39mattrs[\u001b[39m'\u001b[39m\u001b[39mcrs\u001b[39m\u001b[39m'\u001b[39m]\n",
      "\u001b[1;31mKeyError\u001b[0m: 'GeoTransform'"
     ]
    }
   ],
   "source": [
    "import xarray as xr\n",
    "import rasterio\n",
    "from rasterio.transform import Affine\n",
    "\n",
    "# 打开netCDF文件并读取变量\n",
    "nc_file = xr.open_dataset('h3_data.nc')\n",
    "variable = nc_file['hex']\n",
    "\n",
    "# 获取变量的元数据信息\n",
    "transform = Affine.from_gdal(*variable.attrs['GeoTransform'])\n",
    "height, width = variable.shape\n",
    "crs = variable.attrs['crs']\n",
    "\n",
    "# 创建输出GeoTIFF文件\n",
    "with rasterio.open('output1.tif', 'w', driver='GTiff',\n",
    "                   height=height, width=width, count=1, dtype=variable.dtype,\n",
    "                   crs=crs, transform=transform) as dst:\n",
    "    dst.write(variable.values, 1)\n",
    "\n",
    "# 关闭netCDF文件\n",
    "nc_file.close()\n"
   ]
  }
 ],
 "metadata": {
  "kernelspec": {
   "display_name": "base",
   "language": "python",
   "name": "python3"
  },
  "language_info": {
   "codemirror_mode": {
    "name": "ipython",
    "version": 3
   },
   "file_extension": ".py",
   "mimetype": "text/x-python",
   "name": "python",
   "nbconvert_exporter": "python",
   "pygments_lexer": "ipython3",
   "version": "3.8.3"
  },
  "orig_nbformat": 4,
  "vscode": {
   "interpreter": {
    "hash": "d12a6980af1de3549060b7b451d48d445ec6b4aaeaf0b0e12a509d2182e95745"
   }
  }
 },
 "nbformat": 4,
 "nbformat_minor": 2
}
