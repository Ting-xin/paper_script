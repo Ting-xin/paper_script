{
 "cells": [
  {
   "cell_type": "code",
   "execution_count": null,
   "metadata": {},
   "outputs": [],
   "source": [
    "from rasdapy.db_connector import DBConnector\n",
    "from rasdapy.query_executor import QueryExecutor\n",
    "\n",
    "\n",
    "db_connector = DBConnector(\"localhost\", 7001, \"rasadmin\", \"rasadmin\")\n",
    "db_connector.open()\n",
    "\n",
    "query_executor = QueryExecutor(db_connector)\n",
    "\n",
    "collection_list = query_executor.execute_read(\"select c from RAS_COLLECTIONNAMES as c\")\n",
    "print(collection_list)\n"
   ]
  },
  {
   "cell_type": "code",
   "execution_count": null,
   "metadata": {},
   "outputs": [],
   "source": [
    "query_executor.execute_write(\"create collection test_mr GreySet\")"
   ]
  },
  {
   "cell_type": "code",
   "execution_count": null,
   "metadata": {},
   "outputs": [],
   "source": [
    "db_connector.close()"
   ]
  },
  {
   "attachments": {},
   "cell_type": "markdown",
   "metadata": {},
   "source": [
    "export LD_LIBRARY_PATH=/usr/lib/java/gdal\n",
    "\n",
    "export GDAL_DATA=/usr/share/gdal\n",
    "\n",
    "/usr/local/lib"
   ]
  }
 ],
 "metadata": {
  "kernelspec": {
   "display_name": "base",
   "language": "python",
   "name": "python3"
  },
  "language_info": {
   "name": "python",
   "version": "3.8.3"
  },
  "orig_nbformat": 4,
  "vscode": {
   "interpreter": {
    "hash": "d12a6980af1de3549060b7b451d48d445ec6b4aaeaf0b0e12a509d2182e95745"
   }
  }
 },
 "nbformat": 4,
 "nbformat_minor": 2
}
