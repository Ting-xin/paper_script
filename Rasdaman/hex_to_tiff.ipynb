{
 "cells": [
  {
   "cell_type": "code",
   "execution_count": 1,
   "metadata": {},
   "outputs": [],
   "source": [
    "import pandas as pd\n",
    "import numpy as np\n",
    "import rasterio\n",
    "\n"
   ]
  },
  {
   "cell_type": "code",
   "execution_count": 2,
   "metadata": {},
   "outputs": [],
   "source": [
    "import h3\n",
    "\n",
    "\n",
    "def h3_to_ij(h3_index, hex_res):\n",
    "    # Convert h3 index to lat/lon coordinates\n",
    "    lat, lon = h3.h3_to_geo(h3_index)\n",
    "\n",
    "    # Calculate x and y coordinates of hexagon center\n",
    "    x = (lon + 180) / 360 * (2 ** hex_res)\n",
    "    y = ((lat * -1) + 90) / 180 * (2 ** hex_res)\n",
    "\n",
    "    # Calculate i and j array indices\n",
    "    i = int(y)\n",
    "    j = int(x)\n",
    "\n",
    "    return i, j\n"
   ]
  },
  {
   "cell_type": "code",
   "execution_count": 21,
   "metadata": {},
   "outputs": [],
   "source": [
    "# Create sample DataFrame with hex7 and cnt attributes\n",
    "df = pd.DataFrame({\n",
    "    'hex7': ['873082490ffffff', '873082491ffffff', '873082492ffffff'],\n",
    "    'cnt': [10, 20, 30]\n",
    "})\n",
    "\n",
    "# Define hex resolution\n",
    "hex_res = 7\n",
    "\n",
    "# Create hexagon grid and populate with cnt values\n",
    "hex_grid = np.zeros((122, 244))\n",
    "for index, row in df.iterrows():\n",
    "    h3_index = row['hex7']\n",
    "    cnt_value = row['cnt']\n",
    "    i, j = h3_to_ij(h3_index, hex_res)\n",
    "    hex_grid[i][j] = cnt_value\n",
    "\n",
    "# Define output file name\n",
    "output_file = \"output.tiff\"\n",
    "\n",
    "# Define metadata for output file\n",
    "width = 1220\n",
    "height = 1220\n",
    "count = 3\n",
    "dtype = hex_grid.dtype\n",
    "transform = rasterio.transform.Affine(1, 0, 0, 0, -1, height)\n",
    "\n",
    "# Write NumPy array to TIFF file\n",
    "with rasterio.open(output_file, 'w', driver='GTiff', width=width, height=height, count=count, dtype=dtype, transform=transform) as dst:\n",
    "    dst.write(hex_grid, 1)\n"
   ]
  },
  {
   "cell_type": "code",
   "execution_count": 19,
   "metadata": {},
   "outputs": [
    {
     "ename": "OSError",
     "evalue": "exception: access violation writing 0x0000018685238990",
     "output_type": "error",
     "traceback": [
      "\u001b[1;31m---------------------------------------------------------------------------\u001b[0m",
      "\u001b[1;31mOSError\u001b[0m                                   Traceback (most recent call last)",
      "Cell \u001b[1;32mIn[19], line 36\u001b[0m\n\u001b[0;32m     33\u001b[0m gdf \u001b[39m=\u001b[39m gdf\u001b[39m.\u001b[39mto_crs(target_crs)\n\u001b[0;32m     35\u001b[0m \u001b[39m# Get the envelope of the polygons\u001b[39;00m\n\u001b[1;32m---> 36\u001b[0m envelope \u001b[39m=\u001b[39m gdf\u001b[39m.\u001b[39;49menvelope\n\u001b[0;32m     38\u001b[0m \u001b[39m# Get the bounds of the envelope\u001b[39;00m\n\u001b[0;32m     39\u001b[0m xmin, ymin, xmax, ymax \u001b[39m=\u001b[39m envelope\u001b[39m.\u001b[39mtotal_bounds\n",
      "File \u001b[1;32mf:\\Anaconda3\\lib\\site-packages\\geopandas\\base.py:580\u001b[0m, in \u001b[0;36mGeoPandasBase.envelope\u001b[1;34m(self)\u001b[0m\n\u001b[0;32m    541\u001b[0m \u001b[39m@property\u001b[39m\n\u001b[0;32m    542\u001b[0m \u001b[39mdef\u001b[39;00m \u001b[39menvelope\u001b[39m(\u001b[39mself\u001b[39m):\n\u001b[0;32m    543\u001b[0m     \u001b[39m\"\"\"Returns a ``GeoSeries`` of geometries representing the envelope of\u001b[39;00m\n\u001b[0;32m    544\u001b[0m \u001b[39m    each geometry.\u001b[39;00m\n\u001b[0;32m    545\u001b[0m \n\u001b[1;32m   (...)\u001b[0m\n\u001b[0;32m    578\u001b[0m \u001b[39m    GeoSeries.convex_hull : convex hull geometry\u001b[39;00m\n\u001b[0;32m    579\u001b[0m \u001b[39m    \"\"\"\u001b[39;00m\n\u001b[1;32m--> 580\u001b[0m     \u001b[39mreturn\u001b[39;00m _delegate_property(\u001b[39m\"\u001b[39;49m\u001b[39menvelope\u001b[39;49m\u001b[39m\"\u001b[39;49m, \u001b[39mself\u001b[39;49m)\n",
      "File \u001b[1;32mf:\\Anaconda3\\lib\\site-packages\\geopandas\\base.py:66\u001b[0m, in \u001b[0;36m_delegate_property\u001b[1;34m(op, this)\u001b[0m\n\u001b[0;32m     63\u001b[0m \u001b[39mdef\u001b[39;00m \u001b[39m_delegate_property\u001b[39m(op, this):\n\u001b[0;32m     64\u001b[0m     \u001b[39m# type: (str, GeoSeries) -> GeoSeries/Series\u001b[39;00m\n\u001b[0;32m     65\u001b[0m     a_this \u001b[39m=\u001b[39m GeometryArray(this\u001b[39m.\u001b[39mgeometry\u001b[39m.\u001b[39mvalues)\n\u001b[1;32m---> 66\u001b[0m     data \u001b[39m=\u001b[39m \u001b[39mgetattr\u001b[39;49m(a_this, op)\n\u001b[0;32m     67\u001b[0m     \u001b[39mif\u001b[39;00m \u001b[39misinstance\u001b[39m(data, GeometryArray):\n\u001b[0;32m     68\u001b[0m         \u001b[39mfrom\u001b[39;00m \u001b[39m.\u001b[39;00m\u001b[39mgeoseries\u001b[39;00m \u001b[39mimport\u001b[39;00m GeoSeries\n",
      "File \u001b[1;32mf:\\Anaconda3\\lib\\site-packages\\geopandas\\array.py:500\u001b[0m, in \u001b[0;36mGeometryArray.envelope\u001b[1;34m(self)\u001b[0m\n\u001b[0;32m    498\u001b[0m \u001b[39m@property\u001b[39m\n\u001b[0;32m    499\u001b[0m \u001b[39mdef\u001b[39;00m \u001b[39menvelope\u001b[39m(\u001b[39mself\u001b[39m):\n\u001b[1;32m--> 500\u001b[0m     \u001b[39mreturn\u001b[39;00m GeometryArray(vectorized\u001b[39m.\u001b[39;49menvelope(\u001b[39mself\u001b[39;49m\u001b[39m.\u001b[39;49mdata), crs\u001b[39m=\u001b[39m\u001b[39mself\u001b[39m\u001b[39m.\u001b[39mcrs)\n",
      "File \u001b[1;32mf:\\Anaconda3\\lib\\site-packages\\geopandas\\_vectorized.py:627\u001b[0m, in \u001b[0;36menvelope\u001b[1;34m(data)\u001b[0m\n\u001b[0;32m    625\u001b[0m     \u001b[39mreturn\u001b[39;00m pygeos\u001b[39m.\u001b[39menvelope(data)\n\u001b[0;32m    626\u001b[0m \u001b[39melse\u001b[39;00m:\n\u001b[1;32m--> 627\u001b[0m     \u001b[39mreturn\u001b[39;00m _unary_geo(\u001b[39m\"\u001b[39;49m\u001b[39menvelope\u001b[39;49m\u001b[39m\"\u001b[39;49m, data)\n",
      "File \u001b[1;32mf:\\Anaconda3\\lib\\site-packages\\geopandas\\_vectorized.py:590\u001b[0m, in \u001b[0;36m_unary_geo\u001b[1;34m(op, left, *args, **kwargs)\u001b[0m\n\u001b[0;32m    588\u001b[0m data \u001b[39m=\u001b[39m np\u001b[39m.\u001b[39mempty(\u001b[39mlen\u001b[39m(left), dtype\u001b[39m=\u001b[39m\u001b[39mobject\u001b[39m)\n\u001b[0;32m    589\u001b[0m \u001b[39mwith\u001b[39;00m compat\u001b[39m.\u001b[39mignore_shapely2_warnings():\n\u001b[1;32m--> 590\u001b[0m     data[:] \u001b[39m=\u001b[39m [\u001b[39mgetattr\u001b[39m(geom, op, \u001b[39mNone\u001b[39;00m) \u001b[39mfor\u001b[39;00m geom \u001b[39min\u001b[39;00m left]\n\u001b[0;32m    591\u001b[0m \u001b[39mreturn\u001b[39;00m data\n",
      "File \u001b[1;32mf:\\Anaconda3\\lib\\site-packages\\geopandas\\_vectorized.py:590\u001b[0m, in \u001b[0;36m<listcomp>\u001b[1;34m(.0)\u001b[0m\n\u001b[0;32m    588\u001b[0m data \u001b[39m=\u001b[39m np\u001b[39m.\u001b[39mempty(\u001b[39mlen\u001b[39m(left), dtype\u001b[39m=\u001b[39m\u001b[39mobject\u001b[39m)\n\u001b[0;32m    589\u001b[0m \u001b[39mwith\u001b[39;00m compat\u001b[39m.\u001b[39mignore_shapely2_warnings():\n\u001b[1;32m--> 590\u001b[0m     data[:] \u001b[39m=\u001b[39m [\u001b[39mgetattr\u001b[39;49m(geom, op, \u001b[39mNone\u001b[39;49;00m) \u001b[39mfor\u001b[39;00m geom \u001b[39min\u001b[39;00m left]\n\u001b[0;32m    591\u001b[0m \u001b[39mreturn\u001b[39;00m data\n",
      "File \u001b[1;32mf:\\Anaconda3\\lib\\site-packages\\shapely\\geometry\\base.py:500\u001b[0m, in \u001b[0;36mBaseGeometry.envelope\u001b[1;34m(self)\u001b[0m\n\u001b[0;32m    497\u001b[0m \u001b[39m@property\u001b[39m\n\u001b[0;32m    498\u001b[0m \u001b[39mdef\u001b[39;00m \u001b[39menvelope\u001b[39m(\u001b[39mself\u001b[39m):\n\u001b[0;32m    499\u001b[0m     \u001b[39m\"\"\"A figure that envelopes the geometry\"\"\"\u001b[39;00m\n\u001b[1;32m--> 500\u001b[0m     \u001b[39mreturn\u001b[39;00m geom_factory(\u001b[39mself\u001b[39;49m\u001b[39m.\u001b[39;49mimpl[\u001b[39m'\u001b[39;49m\u001b[39menvelope\u001b[39;49m\u001b[39m'\u001b[39;49m](\u001b[39mself\u001b[39;49m))\n",
      "File \u001b[1;32mf:\\Anaconda3\\lib\\site-packages\\shapely\\topology.py:80\u001b[0m, in \u001b[0;36mUnaryTopologicalOp.__call__\u001b[1;34m(self, this, *args)\u001b[0m\n\u001b[0;32m     78\u001b[0m \u001b[39mdef\u001b[39;00m \u001b[39m__call__\u001b[39m(\u001b[39mself\u001b[39m, this, \u001b[39m*\u001b[39margs):\n\u001b[0;32m     79\u001b[0m     \u001b[39mself\u001b[39m\u001b[39m.\u001b[39m_validate(this)\n\u001b[1;32m---> 80\u001b[0m     \u001b[39mreturn\u001b[39;00m \u001b[39mself\u001b[39;49m\u001b[39m.\u001b[39;49mfn(this\u001b[39m.\u001b[39;49m_geom, \u001b[39m*\u001b[39;49margs)\n",
      "\u001b[1;31mOSError\u001b[0m: exception: access violation writing 0x0000018685238990"
     ]
    }
   ],
   "source": [
    "import h3\n",
    "import geopandas as gpd\n",
    "from shapely.geometry import Polygon\n",
    "import rasterio\n",
    "\n",
    "\n",
    "\n",
    "# Define the H3 resolution and the output file name\n",
    "h3_resolution = 7\n",
    "output_file = \"output.tiff\"\n",
    "\n",
    "# Create sample DataFrame with hex7 and cnt attributes\n",
    "df = pd.DataFrame({\n",
    "    'hex7': ['873082490ffffff', '873082491ffffff', '873082492ffffff'],\n",
    "    'cnt': [10, 20, 30]\n",
    "})\n",
    "\n",
    "# Convert the H3 hexagons to GeoDataFrames\n",
    "polygons = []\n",
    "for index, row in df.iterrows():\n",
    "    h3_index = row['hex7']\n",
    "    cnt_value = row['cnt']\n",
    "    hex_boundary = h3.h3_to_geo_boundary(h3_index)\n",
    "    poly = Polygon(hex_boundary)\n",
    "    polygons.append(poly)\n",
    "\n",
    "gdf = gpd.GeoDataFrame(df, geometry=polygons)\n",
    "\n",
    "gdf = gdf.set_crs(epsg=4326)\n",
    "\n",
    "# Define the target CRS and transform the polygons\n",
    "target_crs = 'EPSG:4326'\n",
    "gdf = gdf.to_crs(target_crs)\n",
    "\n",
    "# Get the envelope of the polygons\n",
    "envelope = gdf.envelope\n",
    "\n",
    "# Get the bounds of the envelope\n",
    "xmin, ymin, xmax, ymax = envelope.total_bounds\n",
    "\n",
    "# Define the metadata for the output file\n",
    "pixel_size = 0.1  # Resolution of the output file\n",
    "nx = int((xmax - xmin) / pixel_size)  # Number of pixels in x direction\n",
    "ny = int((ymax - ymin) / pixel_size)  # Number of pixels in y direction\n",
    "dtype = rasterio.float32  # Data type of the output file\n",
    "count = 1  # Number of bands in the output file\n",
    "transform = rasterio.transform.from_bounds(xmin, ymin, xmax, ymax, nx, ny)\n",
    "\n",
    "# Write the GeoDataFrame to a TIFF file\n",
    "with rasterio.open(output_file, 'w', driver='GTiff', width=nx, height=ny, count=count, dtype=dtype, transform=transform) as dst:\n",
    "    dst.write(gdf.values, 1)\n"
   ]
  }
 ],
 "metadata": {
  "kernelspec": {
   "display_name": "base",
   "language": "python",
   "name": "python3"
  },
  "language_info": {
   "codemirror_mode": {
    "name": "ipython",
    "version": 3
   },
   "file_extension": ".py",
   "mimetype": "text/x-python",
   "name": "python",
   "nbconvert_exporter": "python",
   "pygments_lexer": "ipython3",
   "version": "3.8.3"
  },
  "orig_nbformat": 4,
  "vscode": {
   "interpreter": {
    "hash": "d12a6980af1de3549060b7b451d48d445ec6b4aaeaf0b0e12a509d2182e95745"
   }
  }
 },
 "nbformat": 4,
 "nbformat_minor": 2
}
