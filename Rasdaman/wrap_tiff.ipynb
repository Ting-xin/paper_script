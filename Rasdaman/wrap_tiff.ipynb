{
 "cells": [
  {
   "cell_type": "code",
   "execution_count": 20,
   "metadata": {},
   "outputs": [],
   "source": [
    "import os\n",
    "import ogr\n",
    "import gdal\n",
    "gdal.SetConfigOption(\n",
    "    'GDAL_DRIVER_PATH', 'F:/Anaconda3/envs/py35/Lib/site-packages/osgeo/gdalplugins')\n",
    "gdal.SetConfigOption('GDAL_FILENAME_IS_UTF8', 'YES')\n"
   ]
  },
  {
   "cell_type": "code",
   "execution_count": 22,
   "metadata": {},
   "outputs": [
    {
     "name": "stdout",
     "output_type": "stream",
     "text": [
      "E:\\paper\\data\\原始数据\\夜间灯光数据\\PANDA_China_1984.tif\n",
      "None\n",
      "E:\\paper\\data\\原始数据\\夜间灯光数据\\PANDA_China_1985.tif\n",
      "None\n",
      "E:\\paper\\data\\原始数据\\夜间灯光数据\\PANDA_China_1986.tif\n",
      "None\n",
      "E:\\paper\\data\\原始数据\\夜间灯光数据\\PANDA_China_1987.tif\n",
      "None\n",
      "E:\\paper\\data\\原始数据\\夜间灯光数据\\PANDA_China_1988.tif\n",
      "None\n",
      "E:\\paper\\data\\原始数据\\夜间灯光数据\\PANDA_China_1989.tif\n",
      "None\n",
      "E:\\paper\\data\\原始数据\\夜间灯光数据\\PANDA_China_1990.tif\n",
      "None\n",
      "E:\\paper\\data\\原始数据\\夜间灯光数据\\PANDA_China_1991.tif\n",
      "None\n",
      "E:\\paper\\data\\原始数据\\夜间灯光数据\\PANDA_China_1992.tif\n",
      "None\n",
      "E:\\paper\\data\\原始数据\\夜间灯光数据\\PANDA_China_1993.tif\n",
      "None\n",
      "E:\\paper\\data\\原始数据\\夜间灯光数据\\PANDA_China_1994.tif\n",
      "None\n",
      "E:\\paper\\data\\原始数据\\夜间灯光数据\\PANDA_China_1995.tif\n",
      "None\n",
      "E:\\paper\\data\\原始数据\\夜间灯光数据\\PANDA_China_1996.tif\n",
      "None\n",
      "E:\\paper\\data\\原始数据\\夜间灯光数据\\PANDA_China_1997.tif\n",
      "None\n",
      "E:\\paper\\data\\原始数据\\夜间灯光数据\\PANDA_China_1998.tif\n",
      "None\n",
      "E:\\paper\\data\\原始数据\\夜间灯光数据\\PANDA_China_1999.tif\n",
      "None\n",
      "E:\\paper\\data\\原始数据\\夜间灯光数据\\PANDA_China_2000.tif\n",
      "None\n",
      "E:\\paper\\data\\原始数据\\夜间灯光数据\\PANDA_China_2001.tif\n",
      "None\n",
      "E:\\paper\\data\\原始数据\\夜间灯光数据\\PANDA_China_2002.tif\n",
      "None\n",
      "E:\\paper\\data\\原始数据\\夜间灯光数据\\PANDA_China_2003.tif\n",
      "None\n",
      "E:\\paper\\data\\原始数据\\夜间灯光数据\\PANDA_China_2004.tif\n",
      "None\n",
      "E:\\paper\\data\\原始数据\\夜间灯光数据\\PANDA_China_2005.tif\n",
      "None\n",
      "E:\\paper\\data\\原始数据\\夜间灯光数据\\PANDA_China_2006.tif\n",
      "None\n",
      "E:\\paper\\data\\原始数据\\夜间灯光数据\\PANDA_China_2007.tif\n",
      "None\n",
      "E:\\paper\\data\\原始数据\\夜间灯光数据\\PANDA_China_2008.tif\n",
      "None\n",
      "E:\\paper\\data\\原始数据\\夜间灯光数据\\PANDA_China_2009.tif\n",
      "None\n",
      "E:\\paper\\data\\原始数据\\夜间灯光数据\\PANDA_China_2010.tif\n",
      "None\n",
      "E:\\paper\\data\\原始数据\\夜间灯光数据\\PANDA_China_2011.tif\n",
      "None\n",
      "E:\\paper\\data\\原始数据\\夜间灯光数据\\PANDA_China_2012.tif\n",
      "None\n",
      "E:\\paper\\data\\原始数据\\夜间灯光数据\\PANDA_China_2013.tif\n",
      "None\n",
      "E:\\paper\\data\\原始数据\\夜间灯光数据\\PANDA_China_2014.tif\n",
      "None\n",
      "E:\\paper\\data\\原始数据\\夜间灯光数据\\PANDA_China_2015.tif\n",
      "None\n",
      "E:\\paper\\data\\原始数据\\夜间灯光数据\\PANDA_China_2016.tif\n",
      "None\n",
      "E:\\paper\\data\\原始数据\\夜间灯光数据\\PANDA_China_2017.tif\n",
      "None\n",
      "E:\\paper\\data\\原始数据\\夜间灯光数据\\PANDA_China_2018.tif\n",
      "None\n",
      "E:\\paper\\data\\原始数据\\夜间灯光数据\\PANDA_China_2019.tif\n",
      "None\n",
      "E:\\paper\\data\\原始数据\\夜间灯光数据\\PANDA_China_2020.tif\n",
      "None\n"
     ]
    }
   ],
   "source": [
    "# 输入文件夹路径和输出文件夹路径\n",
    "input_folder = r'E:\\paper\\data\\原始数据\\夜间灯光数据'\n",
    "output_folder = r'E:\\paper\\data\\原始数据\\夜间灯光数据_南京'\n",
    "\n",
    "# 输入GeoJSON文件路径\n",
    "geojson_file = r'F:\\Download\\南京市\\南京市.json'\n",
    "\n",
    "# 打开GeoJSON文件\n",
    "geojson_data_source = ogr.Open(geojson_file)\n",
    "geojson_layer = geojson_data_source.GetLayer()\n",
    "\n",
    "# 循环处理输入文件夹中的每一个Tiff文件\n",
    "for file_name in os.listdir(input_folder):\n",
    "    if file_name.endswith(\".tif\"):\n",
    "        # 拼接输入和输出文件路径\n",
    "        input_file = os.path.join(input_folder, file_name)\n",
    "        output_file = os.path.join(output_folder, file_name)\n",
    "\n",
    "        # 打开Tiff文件\n",
    "        input_data_source = gdal.Open(input_file)\n",
    "\n",
    "        # 进行裁剪操作\n",
    "        print(input_file)\n",
    "        output_data_source = gdal.Warp(output_file, input_data_source,\n",
    "                                       format='GTiff', cutlineDSName=geojson_layer)\n",
    "        \n",
    "        print(output_data_source)\n",
    "\n",
    "        # 关闭数据源\n",
    "        # input_data_source = None\n",
    "        # output_data_source = None\n"
   ]
  },
  {
   "cell_type": "code",
   "execution_count": 18,
   "metadata": {},
   "outputs": [],
   "source": [
    "gdal.Warp(r'E:\\paper\\data\\原始数据\\夜间灯光数据\\PANDA_China_2020.tif',\n",
    "          input_data_source)\n"
   ]
  },
  {
   "attachments": {},
   "cell_type": "markdown",
   "metadata": {},
   "source": [
    "gdalwarp -s_srs EPSG:4326 -t_srs EPSG:4326 -cutline 'F:/Download/南京市/南京市.json' -crop_to_cutline 'E:/paper/data/原始数据/夜间灯光数据/PANDA_China_2019.tif' 'E:/paper/data/2019.tif'"
   ]
  },
  {
   "cell_type": "code",
   "execution_count": 11,
   "metadata": {},
   "outputs": [
    {
     "data": {
      "text/plain": [
       "<osgeo.ogr.Layer; proxy of <Swig Object of type 'OGRLayerShadow *' at 0x000002CF158077B0> >"
      ]
     },
     "execution_count": 11,
     "metadata": {},
     "output_type": "execute_result"
    }
   ],
   "source": [
    "geojson_layer\n"
   ]
  }
 ],
 "metadata": {
  "kernelspec": {
   "display_name": "py36",
   "language": "python",
   "name": "python3"
  },
  "language_info": {
   "codemirror_mode": {
    "name": "ipython",
    "version": 3
   },
   "file_extension": ".py",
   "mimetype": "text/x-python",
   "name": "python",
   "nbconvert_exporter": "python",
   "pygments_lexer": "ipython3",
   "version": "3.6.15"
  },
  "orig_nbformat": 4,
  "vscode": {
   "interpreter": {
    "hash": "862103ac4b8e87f5fa18e9ea732577a688c0ee1a2ce2a2618b16e9a563df3005"
   }
  }
 },
 "nbformat": 4,
 "nbformat_minor": 2
}
