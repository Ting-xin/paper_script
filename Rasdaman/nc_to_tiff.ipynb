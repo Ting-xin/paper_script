{
 "cells": [
  {
   "cell_type": "code",
   "execution_count": 21,
   "metadata": {},
   "outputs": [],
   "source": [
    "import netCDF4 as nc\n",
    "import numpy as np\n",
    "import rasterio\n",
    "import shapely\n",
    "from shapely.geometry import Polygon,shape\n",
    "import json\n",
    "\n",
    "# 读取NetCDF文件\n",
    "nc_file = nc.Dataset('h3_data.nc', 'r')\n",
    "\n",
    "# 获取六边形网格的坐标和值\n",
    "hex_coords = nc_file.variables['hex'][:]\n",
    "hex_values = nc_file.variables['公交设施服务'][:]\n"
   ]
  },
  {
   "cell_type": "code",
   "execution_count": 30,
   "metadata": {},
   "outputs": [
    {
     "ename": "IndexError",
     "evalue": "index -11 is out of bounds for axis 0 with size 1",
     "output_type": "error",
     "traceback": [
      "\u001b[1;31m---------------------------------------------------------------------------\u001b[0m",
      "\u001b[1;31mIndexError\u001b[0m                                Traceback (most recent call last)",
      "Cell \u001b[1;32mIn[30], line 28\u001b[0m\n\u001b[0;32m     24\u001b[0m hexagon \u001b[39m=\u001b[39m shapely\u001b[39m.\u001b[39mgeometry\u001b[39m.\u001b[39mPolygon([(polygon\u001b[39m.\u001b[39mcentroid\u001b[39m.\u001b[39mx \u001b[39m+\u001b[39m np\u001b[39m.\u001b[39mcos(np\u001b[39m.\u001b[39mpi\u001b[39m/\u001b[39m\u001b[39m3\u001b[39m\u001b[39m*\u001b[39mi) \u001b[39m*\u001b[39m radius,\n\u001b[0;32m     25\u001b[0m                                      polygon\u001b[39m.\u001b[39mcentroid\u001b[39m.\u001b[39my \u001b[39m+\u001b[39m np\u001b[39m.\u001b[39msin(np\u001b[39m.\u001b[39mpi\u001b[39m/\u001b[39m\u001b[39m3\u001b[39m\u001b[39m*\u001b[39mi) \u001b[39m*\u001b[39m radius) \u001b[39mfor\u001b[39;00m i \u001b[39min\u001b[39;00m \u001b[39mrange\u001b[39m(\u001b[39m6\u001b[39m)])\n\u001b[0;32m     27\u001b[0m \u001b[39m# 将六边形转换为栅格数据\u001b[39;00m\n\u001b[1;32m---> 28\u001b[0m hex_raster[row_offset, col_offset] \u001b[39m=\u001b[39m hex_values[i]\n\u001b[0;32m     29\u001b[0m hex_mask \u001b[39m=\u001b[39m rasterio\u001b[39m.\u001b[39mfeatures\u001b[39m.\u001b[39mgeometry_mask(\n\u001b[0;32m     30\u001b[0m     [hexagon], out_shape\u001b[39m=\u001b[39mhex_raster\u001b[39m.\u001b[39mshape, transform\u001b[39m=\u001b[39mtransform, invert\u001b[39m=\u001b[39m\u001b[39mTrue\u001b[39;00m)\n\u001b[0;32m     31\u001b[0m hex_raster[hex_mask] \u001b[39m=\u001b[39m np\u001b[39m.\u001b[39mnan\n",
      "\u001b[1;31mIndexError\u001b[0m: index -11 is out of bounds for axis 0 with size 1"
     ]
    }
   ],
   "source": [
    "# 定义栅格数据的大小和范围\n",
    "width = 1\n",
    "height = 1\n",
    "left, bottom, right, top = [0, 0, 10, 10]\n",
    "transform = rasterio.transform.from_bounds(\n",
    "    left, bottom, right, top, width, height)\n",
    "\n",
    "# 定义六边形半径\n",
    "radius = 0.5\n",
    "\n",
    "# 将六边形网格转换为栅格数据\n",
    "hex_raster = np.zeros((height, width))\n",
    "for i, hex_str in enumerate(hex_coords):\n",
    "    # 将六边形的字符串转换为 Polygon 对象\n",
    "    polygon = shape(json.loads(hex_str))\n",
    "\n",
    "    # 计算六边形在栅格数据中的位置\n",
    "    col_offset = int(\n",
    "        np.round((polygon.centroid.x - left) / (right - left) * width))\n",
    "    row_offset = int(\n",
    "        np.round((top - polygon.centroid.y) / (top - bottom) * height))\n",
    "\n",
    "    # 创建六边形\n",
    "    hexagon = shapely.geometry.Polygon([(polygon.centroid.x + np.cos(np.pi/3*i) * radius,\n",
    "                                         polygon.centroid.y + np.sin(np.pi/3*i) * radius) for i in range(6)])\n",
    "\n",
    "    # 将六边形转换为栅格数据\n",
    "    hex_raster[row_offset, col_offset] = hex_values[i]\n",
    "    hex_mask = rasterio.features.geometry_mask(\n",
    "        [hexagon], out_shape=hex_raster.shape, transform=transform, invert=True)\n",
    "    hex_raster[hex_mask] = np.nan\n",
    "\n",
    "# 保存为 GeoTIFF 文件\n",
    "with rasterio.open('output.tif', 'w', driver='GTiff', width=width, height=height, count=1,\n",
    "                   dtype=hex_raster.dtype, crs='EPSG:4326', transform=transform) as dst:\n",
    "    dst.write(hex_raster, 1)\n"
   ]
  },
  {
   "cell_type": "code",
   "execution_count": 27,
   "metadata": {},
   "outputs": [
    {
     "data": {
      "text/plain": [
       "32.526368526634656"
      ]
     },
     "execution_count": 27,
     "metadata": {},
     "output_type": "execute_result"
    }
   ],
   "source": [
    "polygon.centroid.x\n"
   ]
  },
  {
   "cell_type": "code",
   "execution_count": 15,
   "metadata": {},
   "outputs": [],
   "source": [
    "str = '{\"coordinates\": [[[32.521098, 118.997583], [32.53231, 118.995159], [32.537581, 118.982805], [32.531639, 118.972876], [32.520426, 118.975302], [32.515156, 118.987656]]], \"type\": \"Polygon\"}'\n"
   ]
  },
  {
   "cell_type": "code",
   "execution_count": 20,
   "metadata": {},
   "outputs": [
    {
     "data": {
      "text/plain": [
       "shapely.geometry.polygon.Polygon"
      ]
     },
     "execution_count": 20,
     "metadata": {},
     "output_type": "execute_result"
    }
   ],
   "source": [
    "from shapely.geometry import shape\n",
    "import json\n",
    "type(shape(json.loads(str)))"
   ]
  }
 ],
 "metadata": {
  "kernelspec": {
   "display_name": "base",
   "language": "python",
   "name": "python3"
  },
  "language_info": {
   "codemirror_mode": {
    "name": "ipython",
    "version": 3
   },
   "file_extension": ".py",
   "mimetype": "text/x-python",
   "name": "python",
   "nbconvert_exporter": "python",
   "pygments_lexer": "ipython3",
   "version": "3.8.3"
  },
  "orig_nbformat": 4,
  "vscode": {
   "interpreter": {
    "hash": "d12a6980af1de3549060b7b451d48d445ec6b4aaeaf0b0e12a509d2182e95745"
   }
  }
 },
 "nbformat": 4,
 "nbformat_minor": 2
}
