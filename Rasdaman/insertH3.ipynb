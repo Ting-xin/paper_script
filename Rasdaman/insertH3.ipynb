{
 "cells": [
  {
   "cell_type": "code",
   "execution_count": 3,
   "metadata": {},
   "outputs": [],
   "source": [
    "from rasdapy.db_connector import DBConnector\n",
    "from rasdapy.query_executor import QueryExecutor\n"
   ]
  },
  {
   "cell_type": "code",
   "execution_count": null,
   "metadata": {},
   "outputs": [],
   "source": [
    "conn = DBConnector(\"172.21.212.40\", 7001, \"rasadmin\", \"rasadmin\")\n",
    "conn.open()\n"
   ]
  },
  {
   "attachments": {},
   "cell_type": "markdown",
   "metadata": {},
   "source": [
    "rasql -q 'insert into test_mr values decode($1)' -f /opt/temp_data/h3_data.nc --user rasadmin --passwd rasadmin\n",
    "rasql -q 'insert into test_mr values decode($1)' -f /opt/temp_data/clcd.tif --user rasadmin --passwd rasadmin\n",
    "\n",
    "wcst_import.sh -c wcs -f /opt/temp_data/h3_data.nc -c test_mr --user rasadmin --passwd rasadmin\n",
    "\n",
    "rasql -q 'insert encode $1 as json with spatial in (hex) into test_mr' -f /path/to/data.hexjson -E json --user rasadmin --passwd rasadmin\n",
    "\n",
    "rasql -q 'insert decode($1) as netcdf with spatial in (hex) into test_mr' -f /opt/temp_data/h3_data.nc --user rasadmin --passwd rasadmin\n",
    "\n",
    "\n"
   ]
  }
 ],
 "metadata": {
  "kernelspec": {
   "display_name": "base",
   "language": "python",
   "name": "python3"
  },
  "language_info": {
   "codemirror_mode": {
    "name": "ipython",
    "version": 3
   },
   "file_extension": ".py",
   "mimetype": "text/x-python",
   "name": "python",
   "nbconvert_exporter": "python",
   "pygments_lexer": "ipython3",
   "version": "3.8.3"
  },
  "orig_nbformat": 4,
  "vscode": {
   "interpreter": {
    "hash": "d12a6980af1de3549060b7b451d48d445ec6b4aaeaf0b0e12a509d2182e95745"
   }
  }
 },
 "nbformat": 4,
 "nbformat_minor": 2
}
