{
 "cells": [
  {
   "cell_type": "code",
   "execution_count": 3,
   "metadata": {},
   "outputs": [
    {
     "name": "stdout",
     "output_type": "stream",
     "text": [
      "sum:  277383\n",
      "res:  0.6708810561570103\n",
      "len:  31\n"
     ]
    }
   ],
   "source": [
    "import json\n",
    "\n",
    "with open('space_list.json', 'r', encoding='utf-8') as file:\n",
    "    data = json.load(file)\n",
    "    sum = 0\n",
    "    for item in data.values():\n",
    "        sum += item\n",
    "    res = data['中国'] / sum \n",
    "    print('sum: ', sum)\n",
    "    print('res: ', res)\n",
    "    print('len: ', len(data))"
   ]
  }
 ],
 "metadata": {
  "kernelspec": {
   "display_name": "base",
   "language": "python",
   "name": "python3"
  },
  "language_info": {
   "codemirror_mode": {
    "name": "ipython",
    "version": 3
   },
   "file_extension": ".py",
   "mimetype": "text/x-python",
   "name": "python",
   "nbconvert_exporter": "python",
   "pygments_lexer": "ipython3",
   "version": "3.8.3"
  },
  "orig_nbformat": 4,
  "vscode": {
   "interpreter": {
    "hash": "d12a6980af1de3549060b7b451d48d445ec6b4aaeaf0b0e12a509d2182e95745"
   }
  }
 },
 "nbformat": 4,
 "nbformat_minor": 2
}
