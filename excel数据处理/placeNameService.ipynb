{
 "cells": [
  {
   "cell_type": "code",
   "execution_count": 1,
   "metadata": {},
   "outputs": [],
   "source": [
    "import json\n",
    "import requests\n",
    "\n",
    "\n",
    "def request_get(url, param):\n",
    "    fails = 0\n",
    "    while True:\n",
    "        try:\n",
    "            if fails >= 20:\n",
    "                break\n",
    "\n",
    "            ret = requests.get(url=url, params=param, timeout=10)\n",
    "\n",
    "            if ret.status_code == 200:\n",
    "                text = json.loads(ret.text)\n",
    "            else:\n",
    "                continue\n",
    "        except:\n",
    "            fails += 1\n",
    "            print('网络连接出现问题, 正在尝试再次请求: ', fails)\n",
    "        else:\n",
    "            break\n",
    "    return text\n",
    "\n",
    "\n",
    "def request_post(url, param):\n",
    "    fails = 0\n",
    "    while True:\n",
    "        try:\n",
    "            if fails >= 20:\n",
    "                break\n",
    "\n",
    "            headers = {'content-type': 'application/json'}\n",
    "            ret = requests.post(url, json=param, headers=headers, timeout=10)\n",
    "\n",
    "            if ret.status_code == 200:\n",
    "                text = json.loads(ret.text)\n",
    "            else:\n",
    "                continue\n",
    "        except:\n",
    "            fails += 1\n",
    "            print('网络连接出现问题, 正在尝试再次请求: ', fails)\n",
    "        else:\n",
    "            break\n",
    "    return text\n"
   ]
  },
  {
   "cell_type": "code",
   "execution_count": 2,
   "metadata": {},
   "outputs": [
    {
     "name": "stdout",
     "output_type": "stream",
     "text": [
      "{'total': 22, 'records': [{'id': '7c59929a-44b3-46be-989f-2db4a471029e', 'place_code': '32050510421400000000', 'standard_name': '虎丘区', 'ethnic_minorities_writing': '', 'place_type': '县级行政区', 'place_type_code': '21400', 'province_name': '江苏省', 'city_name': '苏州市', 'area_name': '虎丘区', 'area': '320505', 'city': '3205', 'province': '32', 'gdm': {'type': 'multipoint', 'coordinates': [[120.4293428, 31.3314431]]}, 'pdm': None}]}\n"
     ]
    }
   ],
   "source": [
    "pre_url = 'https://dmfw.mca.gov.cn/9095/stname/listPub?stName='\n",
    "end_url = '&type=place&page=1&size=1'\n",
    "\n",
    "data = request_post(pre_url + '虎丘区' + end_url, {})\n",
    "data['records'][0]['area']\n",
    "\n",
    "\n",
    "def get_code(name):\n",
    "    data = request_post(pre_url + name + end_url, {})\n",
    "    if data and 'records' in data and len(data['records']) == 1 and 'area' in data['records'][0]:\n",
    "        return data['records'][0]['area']\n",
    "    else:\n",
    "        return '-'\n",
    "\n",
    "print(data)\n"
   ]
  },
  {
   "cell_type": "code",
   "execution_count": 9,
   "metadata": {},
   "outputs": [],
   "source": [
    "import json\n",
    "from time import sleep\n",
    "from openpyxl import load_workbook\n",
    "\n",
    "# Load in the workbook\n",
    "src_dir = r'E:\\paper\\data\\原始数据\\历年行政区划数据'\n",
    "wb = load_workbook(src_dir + '\\\\' + '行政区划变更列表.xlsx')\n",
    "\n",
    "# Create empty list\n",
    "data_list = []\n",
    "\n",
    "# Loop through each sheet in the workbook\n",
    "for sheet in wb.worksheets:\n",
    "    # Iterate through each row in the sheet  \n",
    "    for row in sheet.iter_rows():\n",
    "        row_data = {}\n",
    "\n",
    "        # Iterate through each cell in the row\n",
    "        for cell in row:\n",
    "            # Get the value of the first row\n",
    "            row_heading = sheet.cell(1, cell.column).value\n",
    "\n",
    "            # Update the row_data dictionary with row heading as key and the value of the cell\n",
    "            if cell.value:\n",
    "              row_data[row_heading] = str(cell.value)\n",
    "\n",
    "        # Add administrative code\n",
    "        if 'originCode' not in row_data:\n",
    "          row_data['originCode'] = get_code(row_data['originName'])\n",
    "          row_data['newCode'] = get_code(row_data['newName'])\n",
    "        # Append the row_data into the data_list\n",
    "        if cell.row != 1:\n",
    "          data_list.append(row_data)\n",
    "\n",
    "# # Serialize the data_list into JSON string\n",
    "# j = json.dumps(data_list, ensure_ascii='utf-8')\n",
    "# # Print the JSON string\n",
    "# print(data_list)\n",
    "with open(src_dir + '/' + 'result.json', 'w+') as f:\n",
    "  json.dumps(f, ensure_ascii=False).decode('utf8').encode('gb2312')\n"
   ]
  },
  {
   "cell_type": "code",
   "execution_count": null,
   "metadata": {},
   "outputs": [],
   "source": []
  }
 ],
 "metadata": {
  "kernelspec": {
   "display_name": "Python 3.8.3 ('base')",
   "language": "python",
   "name": "python3"
  },
  "language_info": {
   "codemirror_mode": {
    "name": "ipython",
    "version": 3
   },
   "file_extension": ".py",
   "mimetype": "text/x-python",
   "name": "python",
   "nbconvert_exporter": "python",
   "pygments_lexer": "ipython3",
   "version": "3.8.3"
  },
  "orig_nbformat": 4,
  "vscode": {
   "interpreter": {
    "hash": "d12a6980af1de3549060b7b451d48d445ec6b4aaeaf0b0e12a509d2182e95745"
   }
  }
 },
 "nbformat": 4,
 "nbformat_minor": 2
}
