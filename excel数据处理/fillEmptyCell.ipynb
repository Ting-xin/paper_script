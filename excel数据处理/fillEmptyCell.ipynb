{
 "cells": [
  {
   "cell_type": "code",
   "execution_count": 16,
   "metadata": {},
   "outputs": [
    {
     "name": "stdout",
     "output_type": "stream",
     "text": [
      "9\n",
      "9\n",
      "11\n",
      "11\n",
      "10\n",
      "9\n",
      "11\n"
     ]
    }
   ],
   "source": [
    "from openpyxl import load_workbook\n",
    "\n",
    "src_dir = r'E:\\paper\\data\\原始数据\\历年行政区划数据'\n",
    "wb = load_workbook(src_dir + '\\\\' + '行政区划变更列表.xlsx')\n",
    "flag = True\n",
    "\n",
    "for sheet in wb.worksheets:\n",
    "    if flag:        # 有一个bug，max_column 不同的 sheet 读取的不对应\n",
    "        cols = sheet.max_column\n",
    "        flag = False\n",
    "    else:\n",
    "        cols = sheet.max_column + 1\n",
    "    print(cols)\n",
    "    for row in sheet.rows:\n",
    "       if any(cell.value for cell in row):\n",
    "           for cell in row:\n",
    "               if not cell.value and cell.column < cols:\n",
    "                   cell.value = cell.offset(-1, 0).value\n",
    "\n",
    "wb.save(src_dir + '\\\\' + '行政区划变更列表.xlsx')\n",
    "\n"
   ]
  }
 ],
 "metadata": {
  "kernelspec": {
   "display_name": "Python 3.8.3 ('base')",
   "language": "python",
   "name": "python3"
  },
  "language_info": {
   "codemirror_mode": {
    "name": "ipython",
    "version": 3
   },
   "file_extension": ".py",
   "mimetype": "text/x-python",
   "name": "python",
   "nbconvert_exporter": "python",
   "pygments_lexer": "ipython3",
   "version": "3.8.3"
  },
  "orig_nbformat": 4,
  "vscode": {
   "interpreter": {
    "hash": "d12a6980af1de3549060b7b451d48d445ec6b4aaeaf0b0e12a509d2182e95745"
   }
  }
 },
 "nbformat": 4,
 "nbformat_minor": 2
}
