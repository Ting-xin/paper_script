{
 "cells": [
  {
   "cell_type": "code",
   "execution_count": null,
   "metadata": {},
   "outputs": [],
   "source": [
    "import win32com.client\n",
    "import requests\n",
    "from bs4 import BeautifulSoup\n",
    "\n",
    "headers = {\n",
    "    'User-Agent': 'Mozilla/5.0 (Windows NT 10.0; Win64; x64) AppleWebKit/537.36 (KHTML, like Gecko) Chrome/88.0.4324.150 Safari/537.36'\n",
    "}\n",
    "\n",
    "\n",
    "def convert_html_table_to_excel(url):\n",
    "    # 发送请求并获取 HTML 响应\n",
    "    response = requests.get(url, headers=headers)\n",
    "    soup = BeautifulSoup(response.content, 'html.parser')\n",
    "\n",
    "    # 获取表格\n",
    "    title = soup.find('title').text\n",
    "    # print('title: ', title)\n",
    "\n",
    "    table = soup.find('table')\n",
    "    # print('table: ', table)\n",
    "\n",
    "    # 创建一个 Excel 应用\n",
    "    excel = win32com.client.gencache.EnsureDispatch('Excel.Application')\n",
    "    excel.Visible = True\n",
    "\n",
    "    # 创建一个工作簿\n",
    "    workbook = excel.Workbooks.Add()\n",
    "    sheet = workbook.Sheets.Add()\n",
    "    sheet.Name = url.split('/')[len(url.split('/')) - 1]\n",
    "\n",
    "    # 获取表格行数和列数\n",
    "    notes = table.find_all('p')\n",
    "    print('notes: ', notes)\n",
    "    rows = table.find_all('tr')\n",
    "    row_count = len(rows)\n",
    "    col_count = len(rows[0].find_all('td'))\n",
    "\n",
    "    # # 将表格中的数据写入 Excel\n",
    "    for i, row in enumerate(rows):\n",
    "        cells = row.find_all('td')\n",
    "        for j, cell in enumerate(cells):\n",
    "            sheet.Cells(i + 1, j + 1).Value = cell.text\n",
    "\n",
    "    # 自动调整表格大小\n",
    "    # sheet.Columns.AutoFit()\n",
    "\n",
    "    # 保存工作簿\n",
    "    workbook.SaveAs('Table2.xlsx')\n",
    "\n",
    "    # 关闭 Excel 应用\n",
    "    excel.Application.Quit()\n",
    "\n",
    "    return '表格已转换为 Excel 并保存为 Table2.xlsx 文件'\n",
    "\n",
    "\n",
    "source = 'http://tjj.nanjing.gov.cn/material/njnj_2022/nongye/6-2.htm'\n",
    "\n",
    "convert_html_table_to_excel(source)\n"
   ]
  }
 ],
 "metadata": {
  "kernelspec": {
   "display_name": "base",
   "language": "python",
   "name": "python3"
  },
  "language_info": {
   "name": "python",
   "version": "3.8.3"
  },
  "orig_nbformat": 4,
  "vscode": {
   "interpreter": {
    "hash": "d12a6980af1de3549060b7b451d48d445ec6b4aaeaf0b0e12a509d2182e95745"
   }
  }
 },
 "nbformat": 4,
 "nbformat_minor": 2
}
