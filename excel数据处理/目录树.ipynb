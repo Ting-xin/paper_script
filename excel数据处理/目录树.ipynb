{
 "cells": [
  {
   "cell_type": "code",
   "execution_count": null,
   "metadata": {},
   "outputs": [],
   "source": [
    "import os\n",
    "\n",
    "def print_directory_tree(root_path, padding=\"\"):\n",
    "    \"\"\"\n",
    "    Print the directory tree with root_path as the root directory\n",
    "    \"\"\"\n",
    "    # Get all the files and directories in the root_path\n",
    "    directory_entries = os.scandir(root_path)\n",
    "    # Iterate over each entry\n",
    "    for entry in directory_entries:\n",
    "        # If the entry is a directory, print it and call the function recursively\n",
    "        if entry.is_dir():\n",
    "            print(padding + \"+-- \" + entry.name)\n",
    "            print_directory_tree(entry.path, padding + \"    \")\n",
    "        # If the entry is a file, print it\n",
    "        else:\n",
    "            print(padding + \"-- \" + entry.name)\n",
    "\n",
    "\n",
    "# Example usage: print the directory tree starting from the root directory\n",
    "print_directory_tree(\"/\")\n"
   ]
  }
 ],
 "metadata": {
  "language_info": {
   "name": "python"
  },
  "orig_nbformat": 4
 },
 "nbformat": 4,
 "nbformat_minor": 2
}
