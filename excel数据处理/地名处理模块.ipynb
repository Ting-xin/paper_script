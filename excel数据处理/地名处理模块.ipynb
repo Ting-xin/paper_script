{
 "cells": [
  {
   "cell_type": "code",
   "execution_count": 5,
   "metadata": {},
   "outputs": [],
   "source": [
    "import json\n",
    "\n",
    "city = []\n",
    "\n",
    "with open(r'E:\\paper\\data\\原始数据\\历年行政区划数据\\2015-2022原始数据\\city.json', 'r', encoding='utf-8') as f:\n",
    "  data = json.load(f)\n",
    "  for item in data:\n",
    "    temp = item['name'].replace('市', '').replace('省', '').replace('区', '').replace('县', '')\n",
    "    if temp not in city:\n",
    "      city.append(temp)\n",
    "\n",
    "with open(r'E:\\paper\\data\\原始数据\\历年行政区划数据\\2015-2022原始数据\\province.json', 'r', encoding='utf-8') as f:\n",
    "  data = json.load(f)\n",
    "  for item in data:\n",
    "    temp = item['name'].replace('市', '').replace('省', '').replace('区', '').replace('县', '')\n",
    "    if temp not in city:\n",
    "      city.append(temp)\n",
    "\n",
    "with open(r'E:\\paper\\data\\原始数据\\历年行政区划数据\\2015-2022原始数据\\county.json', 'r', encoding='utf-8') as f:\n",
    "  data = json.load(f)\n",
    "  for item in data:\n",
    "    temp = item['name'].replace('市', '').replace('省', '').replace('区', '').replace('县', '')\n",
    "    if temp not in city:\n",
    "      city.append(temp)\n"
   ]
  },
  {
   "cell_type": "code",
   "execution_count": 7,
   "metadata": {},
   "outputs": [],
   "source": [
    "with open('省市地名.json', 'w', encoding='utf-8') as file:\n",
    "  json.dump(city, file, ensure_ascii=False, indent=4)"
   ]
  }
 ],
 "metadata": {
  "kernelspec": {
   "display_name": "base",
   "language": "python",
   "name": "python3"
  },
  "language_info": {
   "codemirror_mode": {
    "name": "ipython",
    "version": 3
   },
   "file_extension": ".py",
   "mimetype": "text/x-python",
   "name": "python",
   "nbconvert_exporter": "python",
   "pygments_lexer": "ipython3",
   "version": "3.8.3"
  },
  "orig_nbformat": 4,
  "vscode": {
   "interpreter": {
    "hash": "d12a6980af1de3549060b7b451d48d445ec6b4aaeaf0b0e12a509d2182e95745"
   }
  }
 },
 "nbformat": 4,
 "nbformat_minor": 2
}
