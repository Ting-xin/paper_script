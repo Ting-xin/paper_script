{
 "cells": [
  {
   "cell_type": "code",
   "execution_count": 14,
   "metadata": {},
   "outputs": [],
   "source": [
    "import json\n",
    "import ntpath\n",
    "\n",
    "dirs = [r'E:\\paper\\data\\原始数据\\历年行政区划数据\\1949-2014伯克利数据',\n",
    "       r'E:\\paper\\data\\原始数据\\历年行政区划数据\\2015-2022原始数据']\n",
    "data_level = ['city', 'county', 'province']\n",
    "\n",
    "for dir in range(len(dirs)):\n",
    "  for level in data_level:\n",
    "    file = dirs[dir] + '/' + level + '.json'\n",
    "    with open(file, 'r', encoding='utf-8') as f:\n",
    "      data = json.load(f)\n",
    "      file_name = ntpath.basename(file).split('.')[0]\n",
    "      result = []\n",
    "      for item in data:\n",
    "        temp = {}\n",
    "        temp['name'] = item['name']\n",
    "        temp['code'] = item['code']\n",
    "        temp['sYear'] = item['sYear']\n",
    "        temp['eYear'] = item['eYear']\n",
    "        result.append(temp)\n",
    "    with open(file_name +str(dir) + '地名.json', 'w', encoding='utf-8') as f:\n",
    "      json.dump(result, f, ensure_ascii=False, indent=4)\n"
   ]
  },
  {
   "cell_type": "code",
   "execution_count": 1,
   "metadata": {},
   "outputs": [],
   "source": [
    "import json\n",
    "import ntpath\n",
    "\n",
    "dirs = [r'E:\\paper\\data\\原始数据\\历年行政区划数据\\1949-2014伯克利数据',\n",
    "        r'E:\\paper\\data\\原始数据\\历年行政区划数据\\2015-2022原始数据']\n",
    "data_level = ['city', 'county', 'province']\n",
    "result = []\n",
    "\n",
    "for dir in range(len(dirs)):\n",
    "  for level in data_level:\n",
    "    file = dirs[dir] + '/' + level + '.json'\n",
    "    with open(file, 'r', encoding='utf-8') as f:\n",
    "      data = json.load(f)\n",
    "      for item in data:\n",
    "        if(item['name']) not in result:\n",
    "          result.append(item['name'])\n"
   ]
  },
  {
   "cell_type": "code",
   "execution_count": 5,
   "metadata": {},
   "outputs": [
    {
     "name": "stdout",
     "output_type": "stream",
     "text": [
      "0.10242587601078167\n"
     ]
    },
    {
     "ename": "",
     "evalue": "",
     "output_type": "error",
     "traceback": [
      "\u001b[1;31mThe Kernel crashed while executing code in the the current cell or a previous cell. Please review the code in the cell(s) to identify a possible cause of the failure. Click <a href='https://aka.ms/vscodeJupyterKernelCrash'>here</a> for more info. View Jupyter <a href='command:jupyter.viewOutput'>log</a> for further details."
     ]
    }
   ],
   "source": [
    "\n",
    "import json\n",
    "\n",
    "sum = 0\n",
    "city_sum = []\n",
    "temp = []\n",
    "with open(r'E:\\paper\\data\\原始数据\\历年行政区划数据\\2015-2022原始数据\\city_geojson\\2022.json', 'r', encoding='utf-8') as file:\n",
    "  data = json.load(file)['features']\n",
    "  sum += len(data)\n",
    "  for item in data:\n",
    "    if item['properties']['地名'] not in temp:\n",
    "      temp.append(item['properties']['地名'])\n",
    "\n",
    "with open(r'E:\\paper\\data\\原始数据\\历年行政区划数据\\2015-2022原始数据\\county_geojson\\2022.json', 'r', encoding='utf-8') as file:\n",
    "  data = json.load(file)['features']\n",
    "  for item in data:\n",
    "    if item['properties']['地名'] in temp and item['properties']['地名'] not in city_sum:\n",
    "      city_sum.append(item['properties']['地名'])\n",
    "\n",
    "# with open(r'E:\\paper\\data\\原始数据\\历年行政区划数据\\2015-2022原始数据\\province_geojson\\2022.json', 'r', encoding='utf-8') as file:\n",
    "#   data = json.load(file)['features']\n",
    "#   sum += len(data)\n",
    "#   for item in data:\n",
    "#     if item['properties']['地名'] not in temp:\n",
    "#       temp.append(item['properties']['地名'])\n",
    "\n",
    "res = len(city_sum) / sum\n",
    "print(res)\n"
   ]
  }
 ],
 "metadata": {
  "kernelspec": {
   "display_name": "base",
   "language": "python",
   "name": "python3"
  },
  "language_info": {
   "codemirror_mode": {
    "name": "ipython",
    "version": 3
   },
   "file_extension": ".py",
   "mimetype": "text/x-python",
   "name": "python",
   "nbconvert_exporter": "python",
   "pygments_lexer": "ipython3",
   "version": "3.8.3"
  },
  "orig_nbformat": 4,
  "vscode": {
   "interpreter": {
    "hash": "d12a6980af1de3549060b7b451d48d445ec6b4aaeaf0b0e12a509d2182e95745"
   }
  }
 },
 "nbformat": 4,
 "nbformat_minor": 2
}
