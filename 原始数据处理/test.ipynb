{
 "cells": [
  {
   "cell_type": "code",
   "execution_count": 16,
   "metadata": {},
   "outputs": [
    {
     "name": "stdout",
     "output_type": "stream",
     "text": [
      "['2015年县级.cpg', '2015年县级.dbf', '2015年县级.prj', '2015年县级.sbn', '2015年县级.sbx', '2015年县级.shp', '2015年县级.shp.xml', '2015年县级.shx']\n"
     ]
    }
   ],
   "source": [
    "import re\n",
    "import shutil\n",
    "import glob\n",
    "import os\n",
    "\n",
    "src_dir = 'E:\\\\paper\\\\data\\\\原始数据\\\\历年行政区划数据\\\\2015-2022原始数据\\\\2015年县级'\n",
    "des_dir = 'E:\\\\paper\\\\data\\\\原始数据\\\\历年行政区划数据\\\\2015-2022原始数据\\\\county_shp'\n",
    "\n",
    "# 扩展到子目录搜索某个后缀名的文件\n",
    "# files = glob.glob(src_dir + '\\\\*', recursive=True)\n",
    "files = os.listdir(src_dir)\n",
    "print(files)\n",
    "\n",
    "# 文件重命名\n",
    "r = re.compile('[\\u4e00-\\u9fa5]')\n",
    "for file in files:\n",
    "  temp = r.sub('', file)\n",
    "  os.rename(src_dir + '/' + file, des_dir + '/' + temp)\n",
    "\n",
    "# 文件移动\n",
    "# for file in files:\n",
    "#   shutil.move(src_dir, des_dir)\n",
    "\n",
    "# r = re.compile('[\\u4e00-\\u9fa5]')\n",
    "# res = r.sub('', test)\n",
    "# print(res)\n"
   ]
  },
  {
   "cell_type": "code",
   "execution_count": 17,
   "metadata": {},
   "outputs": [
    {
     "name": "stdout",
     "output_type": "stream",
     "text": [
      "ok\n"
     ]
    }
   ],
   "source": []
  }
 ],
 "metadata": {
  "kernelspec": {
   "display_name": "Python 3.6.13 ('py36')",
   "language": "python",
   "name": "python3"
  },
  "language_info": {
   "codemirror_mode": {
    "name": "ipython",
    "version": 3
   },
   "file_extension": ".py",
   "mimetype": "text/x-python",
   "name": "python",
   "nbconvert_exporter": "python",
   "pygments_lexer": "ipython3",
   "version": "3.6.15"
  },
  "orig_nbformat": 4,
  "vscode": {
   "interpreter": {
    "hash": "862103ac4b8e87f5fa18e9ea732577a688c0ee1a2ce2a2618b16e9a563df3005"
   }
  }
 },
 "nbformat": 4,
 "nbformat_minor": 2
}
