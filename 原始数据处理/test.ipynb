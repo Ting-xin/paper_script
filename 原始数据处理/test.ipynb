{
 "cells": [
  {
   "cell_type": "code",
   "execution_count": null,
   "metadata": {},
   "outputs": [],
   "source": []
  }
 ],
 "metadata": {
  "kernelspec": {
   "display_name": "Python 3.6.13 ('py36')",
   "language": "python",
   "name": "python3"
  },
  "language_info": {
   "name": "python",
   "version": "3.6.13"
  },
  "orig_nbformat": 4,
  "vscode": {
   "interpreter": {
    "hash": "862103ac4b8e87f5fa18e9ea732577a688c0ee1a2ce2a2618b16e9a563df3005"
   }
  }
 },
 "nbformat": 4,
 "nbformat_minor": 2
}
