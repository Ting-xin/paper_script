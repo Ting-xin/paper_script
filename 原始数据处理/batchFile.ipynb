{
 "cells": [
  {
   "cell_type": "code",
   "execution_count": 5,
   "metadata": {},
   "outputs": [],
   "source": [
    "import os\n",
    "import glob\n",
    "import re"
   ]
  },
  {
   "cell_type": "code",
   "execution_count": 6,
   "metadata": {},
   "outputs": [
    {
     "ename": "FileExistsError",
     "evalue": "[WinError 183] 当文件已存在时，无法创建该文件。: 'E:\\\\paper\\\\data\\\\原始数据\\\\历年行政区划数据\\\\2015-2022原始数据\\\\city_shp/2015.cpg' -> 'E:\\\\paper\\\\data\\\\原始数据\\\\历年行政区划数据\\\\2015-2022原始数据\\\\province_shp/2015.cpg'",
     "output_type": "error",
     "traceback": [
      "\u001b[1;31m---------------------------------------------------------------------------\u001b[0m",
      "\u001b[1;31mFileExistsError\u001b[0m                           Traceback (most recent call last)",
      "\u001b[1;32m<ipython-input-6-a6921f13a47b>\u001b[0m in \u001b[0;36m<module>\u001b[1;34m\u001b[0m\n\u001b[0;32m     20\u001b[0m   \u001b[1;32mfor\u001b[0m \u001b[0mfile\u001b[0m \u001b[1;32min\u001b[0m \u001b[0mfiles\u001b[0m\u001b[1;33m:\u001b[0m\u001b[1;33m\u001b[0m\u001b[1;33m\u001b[0m\u001b[0m\n\u001b[0;32m     21\u001b[0m     \u001b[0mtemp\u001b[0m \u001b[1;33m=\u001b[0m \u001b[0mr\u001b[0m\u001b[1;33m.\u001b[0m\u001b[0msub\u001b[0m\u001b[1;33m(\u001b[0m\u001b[1;34m''\u001b[0m\u001b[1;33m,\u001b[0m \u001b[0mfile\u001b[0m\u001b[1;33m)\u001b[0m\u001b[1;33m\u001b[0m\u001b[1;33m\u001b[0m\u001b[0m\n\u001b[1;32m---> 22\u001b[1;33m     \u001b[0mos\u001b[0m\u001b[1;33m.\u001b[0m\u001b[0mrename\u001b[0m\u001b[1;33m(\u001b[0m\u001b[0mdir\u001b[0m \u001b[1;33m+\u001b[0m \u001b[1;34m'/'\u001b[0m \u001b[1;33m+\u001b[0m \u001b[0mfile\u001b[0m\u001b[1;33m,\u001b[0m \u001b[0mdes_dir\u001b[0m \u001b[1;33m+\u001b[0m \u001b[1;34m'/'\u001b[0m \u001b[1;33m+\u001b[0m \u001b[0mtemp\u001b[0m\u001b[1;33m)\u001b[0m\u001b[1;33m\u001b[0m\u001b[1;33m\u001b[0m\u001b[0m\n\u001b[0m",
      "\u001b[1;31mFileExistsError\u001b[0m: [WinError 183] 当文件已存在时，无法创建该文件。: 'E:\\\\paper\\\\data\\\\原始数据\\\\历年行政区划数据\\\\2015-2022原始数据\\\\city_shp/2015.cpg' -> 'E:\\\\paper\\\\data\\\\原始数据\\\\历年行政区划数据\\\\2015-2022原始数据\\\\province_shp/2015.cpg'"
     ]
    }
   ],
   "source": [
    "# 方式1 glob\n",
    "src_dir = r'E:\\paper\\data\\原始数据\\历年行政区划数据\\2015-2022原始数据'\n",
    "county_dir = 'E:\\\\paper\\\\data\\\\原始数据\\\\历年行政区划数据\\\\2015-2022原始数据\\\\county_shp'\n",
    "city_dir = 'E:\\\\paper\\\\data\\\\原始数据\\\\历年行政区划数据\\\\2015-2022原始数据\\\\city_shp'\n",
    "province_dir = 'E:\\\\paper\\\\data\\\\原始数据\\\\历年行政区划数据\\\\2015-2022原始数据\\\\province_shp'\n",
    "\n",
    "# 扩展到子目录搜索某个后缀名的文件\n",
    "dirs = glob.glob(src_dir + '\\\\*', recursive=True)\n",
    "r = re.compile('[\\u4e00-\\u9fa5]')\n",
    "\n",
    "# 替换文件名并移动\n",
    "for dir in dirs:\n",
    "  if '县级' in dir:\n",
    "    des_dir = county_dir\n",
    "  elif '地级' in dir:\n",
    "    des_dir = city_dir\n",
    "  else:\n",
    "    des_dir = province_dir\n",
    "  files = os.listdir(dir)\n",
    "  for file in files:\n",
    "    temp = r.sub('', file)\n",
    "    os.rename(dir + '/' + file, des_dir + '/' + temp)\n"
   ]
  },
  {
   "cell_type": "code",
   "execution_count": 18,
   "metadata": {},
   "outputs": [
    {
     "name": "stdout",
     "output_type": "stream",
     "text": [
      "['E:\\\\paper\\\\data\\\\原始数据\\\\历年行政区划数据\\\\2019\\\\县.shp', 'E:\\\\paper\\\\data\\\\原始数据\\\\历年行政区划数据\\\\2019\\\\市.shp', 'E:\\\\paper\\\\data\\\\原始数据\\\\历年行政区划数据\\\\2019\\\\省.shp', 'E:\\\\paper\\\\data\\\\原始数据\\\\历年行政区划数据\\\\2020\\\\九段线.shp', 'E:\\\\paper\\\\data\\\\原始数据\\\\历年行政区划数据\\\\2020\\\\县.shp', 'E:\\\\paper\\\\data\\\\原始数据\\\\历年行政区划数据\\\\2020\\\\市.shp', 'E:\\\\paper\\\\data\\\\原始数据\\\\历年行政区划数据\\\\2020\\\\省.shp', 'E:\\\\paper\\\\data\\\\原始数据\\\\历年行政区划数据\\\\2021\\\\九段线.shp', 'E:\\\\paper\\\\data\\\\原始数据\\\\历年行政区划数据\\\\2021\\\\县.shp', 'E:\\\\paper\\\\data\\\\原始数据\\\\历年行政区划数据\\\\2021\\\\市.shp', 'E:\\\\paper\\\\data\\\\原始数据\\\\历年行政区划数据\\\\2021\\\\省.shp']\n"
     ]
    }
   ],
   "source": [
    "# 方式2 os\n",
    "filepath = r'E:\\paper\\data\\原始数据\\历年行政区划数据'\n",
    "\n",
    "filelist = []\n",
    "for root, dirnames, filenames in os.walk(filepath):\n",
    "    for filename in filenames:\n",
    "      if filename.endswith('shp'):\n",
    "    \t  filelist.append(os.path.join(root, filename))\n",
    "print(filelist)\n"
   ]
  },
  {
   "cell_type": "code",
   "execution_count": null,
   "metadata": {},
   "outputs": [],
   "source": []
  }
 ],
 "metadata": {
  "kernelspec": {
   "display_name": "Python 3.6.15 ('py36')",
   "language": "python",
   "name": "python3"
  },
  "language_info": {
   "codemirror_mode": {
    "name": "ipython",
    "version": 3
   },
   "file_extension": ".py",
   "mimetype": "text/x-python",
   "name": "python",
   "nbconvert_exporter": "python",
   "pygments_lexer": "ipython3",
   "version": "3.6.15"
  },
  "orig_nbformat": 4,
  "vscode": {
   "interpreter": {
    "hash": "862103ac4b8e87f5fa18e9ea732577a688c0ee1a2ce2a2618b16e9a563df3005"
   }
  }
 },
 "nbformat": 4,
 "nbformat_minor": 2
}
