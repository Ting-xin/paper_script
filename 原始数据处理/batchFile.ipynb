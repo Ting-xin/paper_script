{
 "cells": [
  {
   "cell_type": "code",
   "execution_count": 2,
   "metadata": {},
   "outputs": [],
   "source": [
    "import os\n",
    "import glob"
   ]
  },
  {
   "cell_type": "code",
   "execution_count": null,
   "metadata": {},
   "outputs": [],
   "source": [
    "# 方式1 glob\n",
    "src_dir = r'E:\\paper\\data\\原始数据\\历年行政区划数据\\\\county_xml'\n",
    "\n",
    "# 扩展到子目录搜索某个后缀名的文件\n",
    "files = glob.glob(src_dir + '\\\\*', recursive=True)\n",
    "for file in files:\n",
    "  os.rename(file, file.replace('CODE', '').replace('年.', '.'))\n"
   ]
  },
  {
   "cell_type": "code",
   "execution_count": 18,
   "metadata": {},
   "outputs": [
    {
     "name": "stdout",
     "output_type": "stream",
     "text": [
      "['E:\\\\paper\\\\data\\\\原始数据\\\\历年行政区划数据\\\\2019\\\\县.shp', 'E:\\\\paper\\\\data\\\\原始数据\\\\历年行政区划数据\\\\2019\\\\市.shp', 'E:\\\\paper\\\\data\\\\原始数据\\\\历年行政区划数据\\\\2019\\\\省.shp', 'E:\\\\paper\\\\data\\\\原始数据\\\\历年行政区划数据\\\\2020\\\\九段线.shp', 'E:\\\\paper\\\\data\\\\原始数据\\\\历年行政区划数据\\\\2020\\\\县.shp', 'E:\\\\paper\\\\data\\\\原始数据\\\\历年行政区划数据\\\\2020\\\\市.shp', 'E:\\\\paper\\\\data\\\\原始数据\\\\历年行政区划数据\\\\2020\\\\省.shp', 'E:\\\\paper\\\\data\\\\原始数据\\\\历年行政区划数据\\\\2021\\\\九段线.shp', 'E:\\\\paper\\\\data\\\\原始数据\\\\历年行政区划数据\\\\2021\\\\县.shp', 'E:\\\\paper\\\\data\\\\原始数据\\\\历年行政区划数据\\\\2021\\\\市.shp', 'E:\\\\paper\\\\data\\\\原始数据\\\\历年行政区划数据\\\\2021\\\\省.shp']\n"
     ]
    }
   ],
   "source": [
    "# 方式2 os\n",
    "filepath = r'E:\\paper\\data\\原始数据\\历年行政区划数据'\n",
    "\n",
    "filelist = []\n",
    "for root, dirnames, filenames in os.walk(filepath):\n",
    "    for filename in filenames:\n",
    "      if filename.endswith('shp'):\n",
    "    \t  filelist.append(os.path.join(root, filename))\n",
    "print(filelist)\n"
   ]
  },
  {
   "cell_type": "code",
   "execution_count": null,
   "metadata": {},
   "outputs": [],
   "source": []
  }
 ],
 "metadata": {
  "kernelspec": {
   "display_name": "Python 3.6.15 ('py36')",
   "language": "python",
   "name": "python3"
  },
  "language_info": {
   "codemirror_mode": {
    "name": "ipython",
    "version": 3
   },
   "file_extension": ".py",
   "mimetype": "text/x-python",
   "name": "python",
   "nbconvert_exporter": "python",
   "pygments_lexer": "ipython3",
   "version": "3.6.15"
  },
  "orig_nbformat": 4,
  "vscode": {
   "interpreter": {
    "hash": "862103ac4b8e87f5fa18e9ea732577a688c0ee1a2ce2a2618b16e9a563df3005"
   }
  }
 },
 "nbformat": 4,
 "nbformat_minor": 2
}
