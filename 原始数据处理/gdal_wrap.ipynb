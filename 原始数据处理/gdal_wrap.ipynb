{
 "cells": [
  {
   "cell_type": "code",
   "execution_count": 7,
   "metadata": {},
   "outputs": [
    {
     "name": "stdout",
     "output_type": "stream",
     "text": [
      "gdalwarp -s_srs EPSG:4326 -t_srs EPSG:4326 -cutline 'F:/Download/南京市/南京市.json' -crop_to_cutline E:\\paper\\data\\原始数据\\夜间灯光数据\\PANDA_China_1984.tif E:\\paper\\data\\nanjin\\Nanjing_1984.tif\n",
      "gdalwarp -s_srs EPSG:4326 -t_srs EPSG:4326 -cutline 'F:/Download/南京市/南京市.json' -crop_to_cutline E:\\paper\\data\\原始数据\\夜间灯光数据\\PANDA_China_1985.tif E:\\paper\\data\\nanjin\\Nanjing_1985.tif\n",
      "gdalwarp -s_srs EPSG:4326 -t_srs EPSG:4326 -cutline 'F:/Download/南京市/南京市.json' -crop_to_cutline E:\\paper\\data\\原始数据\\夜间灯光数据\\PANDA_China_1986.tif E:\\paper\\data\\nanjin\\Nanjing_1986.tif\n",
      "gdalwarp -s_srs EPSG:4326 -t_srs EPSG:4326 -cutline 'F:/Download/南京市/南京市.json' -crop_to_cutline E:\\paper\\data\\原始数据\\夜间灯光数据\\PANDA_China_1987.tif E:\\paper\\data\\nanjin\\Nanjing_1987.tif\n",
      "gdalwarp -s_srs EPSG:4326 -t_srs EPSG:4326 -cutline 'F:/Download/南京市/南京市.json' -crop_to_cutline E:\\paper\\data\\原始数据\\夜间灯光数据\\PANDA_China_1988.tif E:\\paper\\data\\nanjin\\Nanjing_1988.tif\n",
      "gdalwarp -s_srs EPSG:4326 -t_srs EPSG:4326 -cutline 'F:/Download/南京市/南京市.json' -crop_to_cutline E:\\paper\\data\\原始数据\\夜间灯光数据\\PANDA_China_1989.tif E:\\paper\\data\\nanjin\\Nanjing_1989.tif\n",
      "gdalwarp -s_srs EPSG:4326 -t_srs EPSG:4326 -cutline 'F:/Download/南京市/南京市.json' -crop_to_cutline E:\\paper\\data\\原始数据\\夜间灯光数据\\PANDA_China_1990.tif E:\\paper\\data\\nanjin\\Nanjing_1990.tif\n",
      "gdalwarp -s_srs EPSG:4326 -t_srs EPSG:4326 -cutline 'F:/Download/南京市/南京市.json' -crop_to_cutline E:\\paper\\data\\原始数据\\夜间灯光数据\\PANDA_China_1991.tif E:\\paper\\data\\nanjin\\Nanjing_1991.tif\n",
      "gdalwarp -s_srs EPSG:4326 -t_srs EPSG:4326 -cutline 'F:/Download/南京市/南京市.json' -crop_to_cutline E:\\paper\\data\\原始数据\\夜间灯光数据\\PANDA_China_1992.tif E:\\paper\\data\\nanjin\\Nanjing_1992.tif\n",
      "gdalwarp -s_srs EPSG:4326 -t_srs EPSG:4326 -cutline 'F:/Download/南京市/南京市.json' -crop_to_cutline E:\\paper\\data\\原始数据\\夜间灯光数据\\PANDA_China_1993.tif E:\\paper\\data\\nanjin\\Nanjing_1993.tif\n",
      "gdalwarp -s_srs EPSG:4326 -t_srs EPSG:4326 -cutline 'F:/Download/南京市/南京市.json' -crop_to_cutline E:\\paper\\data\\原始数据\\夜间灯光数据\\PANDA_China_1994.tif E:\\paper\\data\\nanjin\\Nanjing_1994.tif\n",
      "gdalwarp -s_srs EPSG:4326 -t_srs EPSG:4326 -cutline 'F:/Download/南京市/南京市.json' -crop_to_cutline E:\\paper\\data\\原始数据\\夜间灯光数据\\PANDA_China_1995.tif E:\\paper\\data\\nanjin\\Nanjing_1995.tif\n",
      "gdalwarp -s_srs EPSG:4326 -t_srs EPSG:4326 -cutline 'F:/Download/南京市/南京市.json' -crop_to_cutline E:\\paper\\data\\原始数据\\夜间灯光数据\\PANDA_China_1996.tif E:\\paper\\data\\nanjin\\Nanjing_1996.tif\n",
      "gdalwarp -s_srs EPSG:4326 -t_srs EPSG:4326 -cutline 'F:/Download/南京市/南京市.json' -crop_to_cutline E:\\paper\\data\\原始数据\\夜间灯光数据\\PANDA_China_1997.tif E:\\paper\\data\\nanjin\\Nanjing_1997.tif\n",
      "gdalwarp -s_srs EPSG:4326 -t_srs EPSG:4326 -cutline 'F:/Download/南京市/南京市.json' -crop_to_cutline E:\\paper\\data\\原始数据\\夜间灯光数据\\PANDA_China_1998.tif E:\\paper\\data\\nanjin\\Nanjing_1998.tif\n",
      "gdalwarp -s_srs EPSG:4326 -t_srs EPSG:4326 -cutline 'F:/Download/南京市/南京市.json' -crop_to_cutline E:\\paper\\data\\原始数据\\夜间灯光数据\\PANDA_China_1999.tif E:\\paper\\data\\nanjin\\Nanjing_1999.tif\n",
      "gdalwarp -s_srs EPSG:4326 -t_srs EPSG:4326 -cutline 'F:/Download/南京市/南京市.json' -crop_to_cutline E:\\paper\\data\\原始数据\\夜间灯光数据\\PANDA_China_2000.tif E:\\paper\\data\\nanjin\\Nanjing_2000.tif\n",
      "gdalwarp -s_srs EPSG:4326 -t_srs EPSG:4326 -cutline 'F:/Download/南京市/南京市.json' -crop_to_cutline E:\\paper\\data\\原始数据\\夜间灯光数据\\PANDA_China_2001.tif E:\\paper\\data\\nanjin\\Nanjing_2001.tif\n",
      "gdalwarp -s_srs EPSG:4326 -t_srs EPSG:4326 -cutline 'F:/Download/南京市/南京市.json' -crop_to_cutline E:\\paper\\data\\原始数据\\夜间灯光数据\\PANDA_China_2002.tif E:\\paper\\data\\nanjin\\Nanjing_2002.tif\n",
      "gdalwarp -s_srs EPSG:4326 -t_srs EPSG:4326 -cutline 'F:/Download/南京市/南京市.json' -crop_to_cutline E:\\paper\\data\\原始数据\\夜间灯光数据\\PANDA_China_2003.tif E:\\paper\\data\\nanjin\\Nanjing_2003.tif\n",
      "gdalwarp -s_srs EPSG:4326 -t_srs EPSG:4326 -cutline 'F:/Download/南京市/南京市.json' -crop_to_cutline E:\\paper\\data\\原始数据\\夜间灯光数据\\PANDA_China_2004.tif E:\\paper\\data\\nanjin\\Nanjing_2004.tif\n",
      "gdalwarp -s_srs EPSG:4326 -t_srs EPSG:4326 -cutline 'F:/Download/南京市/南京市.json' -crop_to_cutline E:\\paper\\data\\原始数据\\夜间灯光数据\\PANDA_China_2005.tif E:\\paper\\data\\nanjin\\Nanjing_2005.tif\n",
      "gdalwarp -s_srs EPSG:4326 -t_srs EPSG:4326 -cutline 'F:/Download/南京市/南京市.json' -crop_to_cutline E:\\paper\\data\\原始数据\\夜间灯光数据\\PANDA_China_2006.tif E:\\paper\\data\\nanjin\\Nanjing_2006.tif\n",
      "gdalwarp -s_srs EPSG:4326 -t_srs EPSG:4326 -cutline 'F:/Download/南京市/南京市.json' -crop_to_cutline E:\\paper\\data\\原始数据\\夜间灯光数据\\PANDA_China_2007.tif E:\\paper\\data\\nanjin\\Nanjing_2007.tif\n",
      "gdalwarp -s_srs EPSG:4326 -t_srs EPSG:4326 -cutline 'F:/Download/南京市/南京市.json' -crop_to_cutline E:\\paper\\data\\原始数据\\夜间灯光数据\\PANDA_China_2008.tif E:\\paper\\data\\nanjin\\Nanjing_2008.tif\n",
      "gdalwarp -s_srs EPSG:4326 -t_srs EPSG:4326 -cutline 'F:/Download/南京市/南京市.json' -crop_to_cutline E:\\paper\\data\\原始数据\\夜间灯光数据\\PANDA_China_2009.tif E:\\paper\\data\\nanjin\\Nanjing_2009.tif\n",
      "gdalwarp -s_srs EPSG:4326 -t_srs EPSG:4326 -cutline 'F:/Download/南京市/南京市.json' -crop_to_cutline E:\\paper\\data\\原始数据\\夜间灯光数据\\PANDA_China_2010.tif E:\\paper\\data\\nanjin\\Nanjing_2010.tif\n",
      "gdalwarp -s_srs EPSG:4326 -t_srs EPSG:4326 -cutline 'F:/Download/南京市/南京市.json' -crop_to_cutline E:\\paper\\data\\原始数据\\夜间灯光数据\\PANDA_China_2011.tif E:\\paper\\data\\nanjin\\Nanjing_2011.tif\n",
      "gdalwarp -s_srs EPSG:4326 -t_srs EPSG:4326 -cutline 'F:/Download/南京市/南京市.json' -crop_to_cutline E:\\paper\\data\\原始数据\\夜间灯光数据\\PANDA_China_2012.tif E:\\paper\\data\\nanjin\\Nanjing_2012.tif\n",
      "gdalwarp -s_srs EPSG:4326 -t_srs EPSG:4326 -cutline 'F:/Download/南京市/南京市.json' -crop_to_cutline E:\\paper\\data\\原始数据\\夜间灯光数据\\PANDA_China_2013.tif E:\\paper\\data\\nanjin\\Nanjing_2013.tif\n",
      "gdalwarp -s_srs EPSG:4326 -t_srs EPSG:4326 -cutline 'F:/Download/南京市/南京市.json' -crop_to_cutline E:\\paper\\data\\原始数据\\夜间灯光数据\\PANDA_China_2014.tif E:\\paper\\data\\nanjin\\Nanjing_2014.tif\n",
      "gdalwarp -s_srs EPSG:4326 -t_srs EPSG:4326 -cutline 'F:/Download/南京市/南京市.json' -crop_to_cutline E:\\paper\\data\\原始数据\\夜间灯光数据\\PANDA_China_2015.tif E:\\paper\\data\\nanjin\\Nanjing_2015.tif\n",
      "gdalwarp -s_srs EPSG:4326 -t_srs EPSG:4326 -cutline 'F:/Download/南京市/南京市.json' -crop_to_cutline E:\\paper\\data\\原始数据\\夜间灯光数据\\PANDA_China_2016.tif E:\\paper\\data\\nanjin\\Nanjing_2016.tif\n",
      "gdalwarp -s_srs EPSG:4326 -t_srs EPSG:4326 -cutline 'F:/Download/南京市/南京市.json' -crop_to_cutline E:\\paper\\data\\原始数据\\夜间灯光数据\\PANDA_China_2017.tif E:\\paper\\data\\nanjin\\Nanjing_2017.tif\n",
      "gdalwarp -s_srs EPSG:4326 -t_srs EPSG:4326 -cutline 'F:/Download/南京市/南京市.json' -crop_to_cutline E:\\paper\\data\\原始数据\\夜间灯光数据\\PANDA_China_2018.tif E:\\paper\\data\\nanjin\\Nanjing_2018.tif\n",
      "gdalwarp -s_srs EPSG:4326 -t_srs EPSG:4326 -cutline 'F:/Download/南京市/南京市.json' -crop_to_cutline E:\\paper\\data\\原始数据\\夜间灯光数据\\PANDA_China_2019.tif E:\\paper\\data\\nanjin\\Nanjing_2019.tif\n",
      "gdalwarp -s_srs EPSG:4326 -t_srs EPSG:4326 -cutline 'F:/Download/南京市/南京市.json' -crop_to_cutline E:\\paper\\data\\原始数据\\夜间灯光数据\\PANDA_China_2020.tif E:\\paper\\data\\nanjin\\Nanjing_2020.tif\n"
     ]
    }
   ],
   "source": [
    "import subprocess\n",
    "import glob\n",
    "import os\n",
    "import time\n",
    "\n",
    "input_folder = r'E:\\paper\\data\\原始数据\\夜间灯光数据'\n",
    "output_folder = r'E:\\paper\\data\\原始数据\\夜间灯光数据_南京'\n",
    "\n",
    "# 输入GeoJSON文件路径\n",
    "geojson_file = r'F:\\Download\\南京市\\南京市.json'\n",
    "\n",
    "\n",
    "# 输入文件夹路径和输出文件夹路径\n",
    "input_folder = r'E:\\paper\\data\\原始数据\\夜间灯光数据'\n",
    "output_folder = r'E:\\paper\\data\\nanjin'\n",
    "\n",
    "# 输入GeoJSON文件路径\n",
    "geojson_file = r'F:\\Download\\南京市\\南京市.json'\n",
    "\n",
    "\n",
    "# 循环处理输入文件夹中的每一个Tiff文件\n",
    "for file_name in os.listdir(input_folder):\n",
    "    if file_name.endswith(\".tif\"):\n",
    "        # 拼接输入和输出文件路径\n",
    "        input_file = os.path.join(input_folder, file_name)\n",
    "        output_file = os.path.join(output_folder, file_name.replace('PANDA_China', 'Nanjing'))\n",
    "\n",
    "        # 打开Tiff文件\n",
    "        cmd = \"gdalwarp -s_srs EPSG:4326 -t_srs EPSG:4326 -cutline 'F:/Download/南京市/南京市.json' \" + '-crop_to_cutline ' + input_file + ' ' + output_file\n",
    "        print(cmd)\n",
    "        # p = subprocess.Popen(cmd, shell=True, stdout=subprocess.PIPE, stderr=subprocess.STDOUT)\n",
    "        # p.wait()\n",
    "        # time.sleep(5)\n",
    "        # print('success')\n",
    "\n"
   ]
  },
  {
   "cell_type": "code",
   "execution_count": null,
   "metadata": {},
   "outputs": [],
   "source": []
  },
  {
   "attachments": {},
   "cell_type": "markdown",
   "metadata": {},
   "source": [
    "gdalwarp -s_srs EPSG:4326 -t_srs EPSG:4326 -cutline 'F:/Download/南京市/南京市.json' -crop_to_cutline 'E:/paper/data/原始数据/夜间灯光数据/PANDA_China_2019.tif' 'E:/paper/data/2019.tif'"
   ]
  }
 ],
 "metadata": {
  "kernelspec": {
   "display_name": "base",
   "language": "python",
   "name": "python3"
  },
  "language_info": {
   "codemirror_mode": {
    "name": "ipython",
    "version": 3
   },
   "file_extension": ".py",
   "mimetype": "text/x-python",
   "name": "python",
   "nbconvert_exporter": "python",
   "pygments_lexer": "ipython3",
   "version": "3.8.3"
  },
  "orig_nbformat": 4,
  "vscode": {
   "interpreter": {
    "hash": "d12a6980af1de3549060b7b451d48d445ec6b4aaeaf0b0e12a509d2182e95745"
   }
  }
 },
 "nbformat": 4,
 "nbformat_minor": 2
}
