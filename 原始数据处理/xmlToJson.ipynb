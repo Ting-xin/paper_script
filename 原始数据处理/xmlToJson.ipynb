{
 "cells": [
  {
   "cell_type": "code",
   "execution_count": 1,
   "metadata": {},
   "outputs": [],
   "source": [
    "import sys\n",
    "import os\n",
    "import json\n",
    "import xmltodict\n",
    "\n",
    "def execute(input, output):      # 读入xml文件，转为json文件\n",
    "    fileList = os.listdir(input)\n",
    "    # 跳出json数据\n",
    "    for file in fileList:\n",
    "        if ('.' in file) and (file.split('.')[1] == 'xml'):\n",
    "            json_file = input + '/' + file\n",
    "            fileName = file.split('.')[0]\n",
    "            break\n",
    "\n",
    "    dict_str = open(json_file, 'r', encoding='utf-8').read()\n",
    "    data = xmltodict.parse(dict_str, xml_attribs=False)     # 去掉了属性\n",
    "    with open(output + '/' + fileName + '.json', 'w', encoding='utf-8') as file:\n",
    "        json.dump(data, file, ensure_ascii=False, indent=4)\n",
    "    return True\n"
   ]
  },
  {
   "cell_type": "code",
   "execution_count": 3,
   "metadata": {},
   "outputs": [
    {
     "data": {
      "text/plain": [
       "True"
      ]
     },
     "execution_count": 3,
     "metadata": {},
     "output_type": "execute_result"
    }
   ],
   "source": [
    "execute(r\"E:\\paper\\data\\原始数据\\历年行政区划数据\\test\",\n",
    "        r\"E:\\paper\\data\\原始数据\\历年行政区划数据\\test\")\n"
   ]
  }
 ],
 "metadata": {
  "kernelspec": {
   "display_name": "Python 3.6.15 ('py36')",
   "language": "python",
   "name": "python3"
  },
  "language_info": {
   "codemirror_mode": {
    "name": "ipython",
    "version": 3
   },
   "file_extension": ".py",
   "mimetype": "text/x-python",
   "name": "python",
   "nbconvert_exporter": "python",
   "pygments_lexer": "ipython3",
   "version": "3.6.15"
  },
  "orig_nbformat": 4,
  "vscode": {
   "interpreter": {
    "hash": "862103ac4b8e87f5fa18e9ea732577a688c0ee1a2ce2a2618b16e9a563df3005"
   }
  }
 },
 "nbformat": 4,
 "nbformat_minor": 2
}
