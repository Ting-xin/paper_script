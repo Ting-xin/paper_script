{
 "cells": [
  {
   "cell_type": "code",
   "execution_count": 7,
   "metadata": {},
   "outputs": [],
   "source": [
    "import folium\n",
    "import h3\n",
    "\n",
    "# 目标地理网格的 H3 索引\n",
    "target_hex = '873091636ffffff'\n",
    "\n",
    "# 查找目标地理网格附近三层的网格\n",
    "k_ring_hexes = h3.hex_ring(target_hex, 2)\n",
    "\n",
    "# 初始化 Folium 地图\n",
    "m = folium.Map(location=h3.h3_to_geo(target_hex), zoom_start=12)\n",
    "\n",
    "# 将目标地理网格的边界坐标添加到地图上\n",
    "folium.PolyLine(locations=h3.h3_to_geo_boundary(target_hex)).add_to(m)\n",
    "\n",
    "# 遍历每一个周围三层的地理网格，用多边形呈现在地图上\n",
    "for hex in k_ring_hexes:\n",
    "    folium.Polygon(locations=h3.h3_to_geo_boundary(\n",
    "        hex), color='blue', fillOpacity=0.05).add_to(m)\n",
    "    \n",
    "m.save('h3_map_example.html')\n"
   ]
  }
 ],
 "metadata": {
  "kernelspec": {
   "display_name": "base",
   "language": "python",
   "name": "python3"
  },
  "language_info": {
   "codemirror_mode": {
    "name": "ipython",
    "version": 3
   },
   "file_extension": ".py",
   "mimetype": "text/x-python",
   "name": "python",
   "nbconvert_exporter": "python",
   "pygments_lexer": "ipython3",
   "version": "3.8.3"
  },
  "orig_nbformat": 4
 },
 "nbformat": 4,
 "nbformat_minor": 2
}
