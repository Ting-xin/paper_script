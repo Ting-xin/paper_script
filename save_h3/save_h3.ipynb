{
 "cells": [
  {
   "cell_type": "code",
   "execution_count": 2,
   "metadata": {},
   "outputs": [],
   "source": [
    "import h3\n",
    "from shapely.geometry import Polygon, Point\n",
    "import shapely.wkt\n"
   ]
  },
  {
   "cell_type": "code",
   "execution_count": 3,
   "metadata": {},
   "outputs": [],
   "source": [
    "def output_h3_id_attributes(h3_id):\n",
    "    return {\n",
    "        \"co_ordinates\": h3.h3_to_geo(h3_id),\n",
    "        \"geo_boundary\": Polygon(h3.h3_to_geo_boundary(h3_id, geo_json=True)).wkt,\n",
    "        \"parent\": h3.h3_to_parent(h3_id),\n",
    "        \"children\": h3.h3_to_children(h3_id)\n",
    "    }\n"
   ]
  },
  {
   "cell_type": "code",
   "execution_count": 7,
   "metadata": {},
   "outputs": [
    {
     "data": {
      "text/plain": [
       "{'co_ordinates': (32.50921128729457, 118.97772770924351),\n",
       " 'geo_boundary': 'POLYGON ((118.9900806901749 32.5039409036078, 118.9876558305878 32.51515580007349, 118.9753018293124 32.52042611409367, 118.9653721873725 32.51448092973158, 118.9677987849457 32.50326472754905, 118.980153286444 32.49799501537817, 118.9900806901749 32.5039409036078))',\n",
       " 'parent': '863082497ffffff',\n",
       " 'children': {'8830824921fffff',\n",
       "  '8830824923fffff',\n",
       "  '8830824925fffff',\n",
       "  '8830824927fffff',\n",
       "  '8830824929fffff',\n",
       "  '883082492bfffff',\n",
       "  '883082492dfffff'}}"
      ]
     },
     "execution_count": 7,
     "metadata": {},
     "output_type": "execute_result"
    }
   ],
   "source": [
    "output_h3_id_attributes('873082492ffffff')\n"
   ]
  },
  {
   "cell_type": "code",
   "execution_count": 5,
   "metadata": {},
   "outputs": [],
   "source": [
    "import googlemaps\n"
   ]
  },
  {
   "cell_type": "code",
   "execution_count": 6,
   "metadata": {},
   "outputs": [
    {
     "ename": "ValueError",
     "evalue": "Must provide API key or enterprise credentials when creating client.",
     "output_type": "error",
     "traceback": [
      "\u001b[1;31m---------------------------------------------------------------------------\u001b[0m",
      "\u001b[1;31mValueError\u001b[0m                                Traceback (most recent call last)",
      "Cell \u001b[1;32mIn[6], line 1\u001b[0m\n\u001b[1;32m----> 1\u001b[0m gmaps \u001b[39m=\u001b[39m googlemaps\u001b[39m.\u001b[39;49mClient(key\u001b[39m=\u001b[39;49m\u001b[39m\"\u001b[39;49m\u001b[39m\"\u001b[39;49m)\n\u001b[0;32m      2\u001b[0m h3_id \u001b[39m=\u001b[39m \u001b[39m\"\u001b[39m\u001b[39m8843a13687fffff\u001b[39m\u001b[39m\"\u001b[39m\n\u001b[0;32m      4\u001b[0m h3_centroid \u001b[39m=\u001b[39m h3\u001b[39m.\u001b[39mh3_to_geo(h3_id)\n",
      "File \u001b[1;32mf:\\Anaconda3\\lib\\site-packages\\googlemaps\\client.py:140\u001b[0m, in \u001b[0;36mClient.__init__\u001b[1;34m(self, key, client_id, client_secret, timeout, connect_timeout, read_timeout, retry_timeout, requests_kwargs, queries_per_second, queries_per_minute, channel, retry_over_query_limit, experience_id, requests_session, base_url)\u001b[0m\n\u001b[0;32m     64\u001b[0m \u001b[39m\"\"\"\u001b[39;00m\n\u001b[0;32m     65\u001b[0m \u001b[39m:param key: Maps API key. Required, unless \"client_id\" and\u001b[39;00m\n\u001b[0;32m     66\u001b[0m \u001b[39m    \"client_secret\" are set. Most users should use an API key.\u001b[39;00m\n\u001b[1;32m   (...)\u001b[0m\n\u001b[0;32m    137\u001b[0m \n\u001b[0;32m    138\u001b[0m \u001b[39m\"\"\"\u001b[39;00m\n\u001b[0;32m    139\u001b[0m \u001b[39mif\u001b[39;00m \u001b[39mnot\u001b[39;00m key \u001b[39mand\u001b[39;00m \u001b[39mnot\u001b[39;00m (client_secret \u001b[39mand\u001b[39;00m client_id):\n\u001b[1;32m--> 140\u001b[0m     \u001b[39mraise\u001b[39;00m \u001b[39mValueError\u001b[39;00m(\u001b[39m\"\u001b[39m\u001b[39mMust provide API key or enterprise credentials \u001b[39m\u001b[39m\"\u001b[39m\n\u001b[0;32m    141\u001b[0m                      \u001b[39m\"\u001b[39m\u001b[39mwhen creating client.\u001b[39m\u001b[39m\"\u001b[39m)\n\u001b[0;32m    143\u001b[0m \u001b[39mif\u001b[39;00m key \u001b[39mand\u001b[39;00m \u001b[39mnot\u001b[39;00m key\u001b[39m.\u001b[39mstartswith(\u001b[39m\"\u001b[39m\u001b[39mAIza\u001b[39m\u001b[39m\"\u001b[39m):\n\u001b[0;32m    144\u001b[0m     \u001b[39mraise\u001b[39;00m \u001b[39mValueError\u001b[39;00m(\u001b[39m\"\u001b[39m\u001b[39mInvalid API key provided.\u001b[39m\u001b[39m\"\u001b[39m)\n",
      "\u001b[1;31mValueError\u001b[0m: Must provide API key or enterprise credentials when creating client."
     ]
    }
   ],
   "source": [
    "gmaps = googlemaps.Client(key=\"\")\n",
    "h3_id = \"8843a13687fffff\"\n",
    "\n",
    "h3_centroid = h3.h3_to_geo(h3_id)\n",
    "response = gmaps.reverse_geocode(h3_centroid)\n",
    "parse_response = {\n",
    "    \"address\": response[0]['formatted_address'],\n",
    "    \"place\": response[0]['address_components'][0]['long_name'],\n",
    "    \"neighbourhood\": response[0]['address_components'][1]['long_name'],\n",
    "    \"city\": response[0]['address_components'][2]['long_name']\n",
    "}\n",
    "parse_response\n"
   ]
  }
 ],
 "metadata": {
  "kernelspec": {
   "display_name": "base",
   "language": "python",
   "name": "python3"
  },
  "language_info": {
   "codemirror_mode": {
    "name": "ipython",
    "version": 3
   },
   "file_extension": ".py",
   "mimetype": "text/x-python",
   "name": "python",
   "nbconvert_exporter": "python",
   "pygments_lexer": "ipython3",
   "version": "3.8.3"
  },
  "orig_nbformat": 4,
  "vscode": {
   "interpreter": {
    "hash": "d12a6980af1de3549060b7b451d48d445ec6b4aaeaf0b0e12a509d2182e95745"
   }
  }
 },
 "nbformat": 4,
 "nbformat_minor": 2
}
