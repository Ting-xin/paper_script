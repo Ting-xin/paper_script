{
 "cells": [
  {
   "cell_type": "code",
   "execution_count": 6,
   "metadata": {},
   "outputs": [],
   "source": [
    "# hexagons = h3.polyfill(geoJson, 8)\n",
    "\n",
    "# print(h3.h3_to_geo_boundary(list(hexagons)[0], geo_json=True))\n",
    "\n",
    "\n",
    "geojson_out = {\n",
    "    \"type\": \"FeatureCollection\",\n",
    "    \"features\": []\n",
    "}\n",
    "\n",
    "for i in hexagons:\n",
    "    geojson_out[\"features\"].append({\n",
    "        \"type\": \"Feature\",\n",
    "        \"properties\": {\n",
    "            \"identifier\": i\n",
    "        },\n",
    "        \"geometry\": {\n",
    "            \"type\": \"Polygon\",\n",
    "            \"coordinates\": [\n",
    "                h3.h3_to_geo_boundary(i, geo_json=True)\n",
    "            ]\n",
    "        }\n",
    "    })\n",
    "\n",
    "with open(\"output.geojson\", \"w\") as outfile:\n",
    "    json.dump(geojson_out, outfile)"
   ]
  },
  {
   "cell_type": "code",
   "execution_count": 7,
   "metadata": {},
   "outputs": [],
   "source": [
    "def test_compact_and_uncompact():\n",
    "    geo = {\n",
    "        'type': 'Polygon',\n",
    "        'coordinates': [\n",
    "            [\n",
    "                [37.813318999983238, -122.4089866999972145],\n",
    "                [37.7866302000007224, -122.3805436999997056],\n",
    "                [37.7198061999978478, -122.3544736999993603],\n",
    "                [37.7076131999975672, -122.5123436999983966],\n",
    "                [37.7835871999971715, -122.5247187000021967],\n",
    "                [37.8151571999998453, -122.4798767000009008],\n",
    "            ]\n",
    "        ]\n",
    "    }\n",
    "\n",
    "    hexes = h3.polyfill(geo, 9)\n",
    "\n",
    "    compact_hexes = h3.compact(hexes)\n",
    "    assert len(compact_hexes) == 209\n",
    "\n",
    "    uncompact_hexes = h3.uncompact(compact_hexes, 9)\n",
    "    assert len(uncompact_hexes) == 1253\n"
   ]
  },
  {
   "cell_type": "code",
   "execution_count": 8,
   "metadata": {},
   "outputs": [],
   "source": [
    "test_compact_and_uncompact()"
   ]
  }
 ],
 "metadata": {
  "kernelspec": {
   "display_name": "base",
   "language": "python",
   "name": "python3"
  },
  "language_info": {
   "codemirror_mode": {
    "name": "ipython",
    "version": 3
   },
   "file_extension": ".py",
   "mimetype": "text/x-python",
   "name": "python",
   "nbconvert_exporter": "python",
   "pygments_lexer": "ipython3",
   "version": "3.8.3"
  },
  "orig_nbformat": 4,
  "vscode": {
   "interpreter": {
    "hash": "d12a6980af1de3549060b7b451d48d445ec6b4aaeaf0b0e12a509d2182e95745"
   }
  }
 },
 "nbformat": 4,
 "nbformat_minor": 2
}
