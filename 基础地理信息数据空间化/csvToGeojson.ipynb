{
 "cells": [
  {
   "cell_type": "code",
   "execution_count": 4,
   "metadata": {},
   "outputs": [],
   "source": [
    "import os\n",
    "\n",
    "def list_files(res, startpath, startStr, endStr):\n",
    "    for root, dirs, files in os.walk(startpath):\n",
    "        for name in files:\n",
    "            if name.endswith(endStr) and name.startswith(startStr):\n",
    "                if os.path.join(root, name) not in res:\n",
    "                    res.append(os.path.join(root, name))\n",
    "        for dir in dirs:\n",
    "            list_files(res, os.path.join(root, dir), startStr, endStr)\n"
   ]
  },
  {
   "cell_type": "code",
   "execution_count": 2,
   "metadata": {},
   "outputs": [],
   "source": [
    "def replace_extension(path, old_ext, new_ext):\n",
    "    \"\"\"\n",
    "    替换路径中的文件后缀\n",
    "    :param path: 文件路径\n",
    "    :param old_ext: 要替换的旧后缀\n",
    "    :param new_ext: 替换成的新后缀\n",
    "    :return: 新路径\n",
    "    \"\"\"\n",
    "    root, ext = os.path.splitext(path)\n",
    "    if ext == old_ext:\n",
    "        new_path = root + new_ext\n",
    "        return new_path\n",
    "    else:\n",
    "        return path\n"
   ]
  },
  {
   "cell_type": "code",
   "execution_count": 4,
   "metadata": {},
   "outputs": [],
   "source": [
    "import pandas as pd\n",
    "import geopandas as gpd\n",
    "from shapely.geometry import Point\n",
    "import os\n",
    "\n",
    "\n",
    "def csv_to_geojson(file):\n",
    "  # 读取CSV文件\n",
    "  df = pd.read_csv(file, encoding='gbk')\n",
    "\n",
    "  # lng = ['WGS84_Lng', 'WGS84_经度']\n",
    "  # lat = ['WGS84_Lat', 'WGS84_纬度']\n",
    "  # 创建点对象\n",
    "  try:\n",
    "    geometry = [Point(xy) for xy in zip(df['lng'], df['lat'])]\n",
    "    # 将数据转换为GeoDataFrame\n",
    "    gdf = gpd.GeoDataFrame(df, geometry=geometry)\n",
    "    # 删除经纬度列\n",
    "    gdf = gdf.drop(['lng', 'lat'], axis=1)\n",
    "  except:\n",
    "    geometry = [Point(xy) for xy in zip(df['WGS84_Lng'], df['WGS84_Lat'])]\n",
    "    # 将数据转换为GeoDataFrame\n",
    "    gdf = gpd.GeoDataFrame(df, geometry=geometry)\n",
    "    # 删除经纬度列\n",
    "    gdf = gdf.drop(['WGS84_Lng', 'WGS84_Lat'], axis=1)\n",
    "\n",
    "  \n",
    "\n",
    "  # 将数据保存为GeoJSON文件\n",
    "  gdf.to_file(replace_extension(file, '.csv', '.json'), driver='GeoJSON')\n",
    "\n",
    "\n",
    "csv_to_geojson(r\"temp.csv\")\n"
   ]
  },
  {
   "cell_type": "code",
   "execution_count": 20,
   "metadata": {},
   "outputs": [],
   "source": [
    "source_dir = r'E:\\paper\\data\\原始数据\\全国重点城市POI数据\\全国重点城市POI数据'\n",
    "origin_file = []\n",
    "\n",
    "list_files(origin_file, source_dir, '', '.csv')\n"
   ]
  },
  {
   "cell_type": "code",
   "execution_count": 21,
   "metadata": {},
   "outputs": [
    {
     "name": "stderr",
     "output_type": "stream",
     "text": [
      "C:\\Users\\wutian\\AppData\\Local\\Temp\\ipykernel_22808\\1483908667.py:4: DtypeWarning: Columns (0,1,2,3,4,5,6,7) have mixed types.Specify dtype option on import or set low_memory=False.\n",
      "  csv_to_geojson(item)\n"
     ]
    },
    {
     "name": "stdout",
     "output_type": "stream",
     "text": [
      "E:\\paper\\data\\原始数据\\全国重点城市POI数据\\全国重点城市POI数据\\合肥\\CSV版本\\交通设施服务.csv\n"
     ]
    },
    {
     "name": "stderr",
     "output_type": "stream",
     "text": [
      "C:\\Users\\wutian\\AppData\\Local\\Temp\\ipykernel_22808\\1483908667.py:4: DtypeWarning: Columns (0,1,2,3,4,5,6,7) have mixed types.Specify dtype option on import or set low_memory=False.\n",
      "  csv_to_geojson(item)\n"
     ]
    },
    {
     "name": "stdout",
     "output_type": "stream",
     "text": [
      "E:\\paper\\data\\原始数据\\全国重点城市POI数据\\全国重点城市POI数据\\成都\\CSV版本\\购物.csv\n"
     ]
    },
    {
     "name": "stderr",
     "output_type": "stream",
     "text": [
      "C:\\Users\\wutian\\AppData\\Local\\Temp\\ipykernel_22808\\1483908667.py:4: DtypeWarning: Columns (0,1,2,3,4,5,6,7) have mixed types.Specify dtype option on import or set low_memory=False.\n",
      "  csv_to_geojson(item)\n"
     ]
    },
    {
     "name": "stdout",
     "output_type": "stream",
     "text": [
      "E:\\paper\\data\\原始数据\\全国重点城市POI数据\\全国重点城市POI数据\\苏州\\CSV版本\\公共设施服务.csv\n",
      "E:\\paper\\data\\原始数据\\全国重点城市POI数据\\全国重点城市POI数据\\西安\\CSV版本\\医疗保健服务.csv\n"
     ]
    }
   ],
   "source": [
    "for item in origin_file:\n",
    "    try:\n",
    "        if not os.path.exists(replace_extension(item, '.csv', '.json')):\n",
    "            csv_to_geojson(item)\n",
    "    except:\n",
    "        print(item)\n"
   ]
  }
 ],
 "metadata": {
  "kernelspec": {
   "display_name": "base",
   "language": "python",
   "name": "python3"
  },
  "language_info": {
   "codemirror_mode": {
    "name": "ipython",
    "version": 3
   },
   "file_extension": ".py",
   "mimetype": "text/x-python",
   "name": "python",
   "nbconvert_exporter": "python",
   "pygments_lexer": "ipython3",
   "version": "3.8.3"
  },
  "orig_nbformat": 4,
  "vscode": {
   "interpreter": {
    "hash": "d12a6980af1de3549060b7b451d48d445ec6b4aaeaf0b0e12a509d2182e95745"
   }
  }
 },
 "nbformat": 4,
 "nbformat_minor": 2
}
