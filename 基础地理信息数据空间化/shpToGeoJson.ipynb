{
 "cells": [
  {
   "cell_type": "code",
   "execution_count": 1,
   "metadata": {},
   "outputs": [],
   "source": [
    "import ogr\n",
    "import gdal\n",
    "import os\n"
   ]
  },
  {
   "cell_type": "code",
   "execution_count": 3,
   "metadata": {},
   "outputs": [],
   "source": [
    "# 通过 gdal 的方式转换会提示 AttributeError: 'NoneType' object has no attribute 'GetLayer'\n",
    "# def ChangeToJson(vector, output):\n",
    "#     print(\"Starting........\")\n",
    "#     # 打开矢量图层\n",
    "#     gdal.SetConfigOption(\"GDAL_FILENAME_IS_UTF8\", \"YES\")\n",
    "#     gdal.SetConfigOption(\"SHAPE_ENCODING\", \"UTF-8\")\n",
    "#     shp_ds = ogr.Open(vector)\n",
    "#     shp_lyr = shp_ds.GetLayer(0)\n",
    "\n",
    "#     # 创建结果Geojson\n",
    "#     baseName = os.path.basename(output+'/outjson.json')\n",
    "#     out_driver = ogr.GetDriverByName('GeoJSON')\n",
    "#     out_ds = out_driver.CreateDataSource(output+'/outjson.json')\n",
    "#     if out_ds.GetLayer(baseName):\n",
    "#         out_ds.DeleteLayer(baseName)\n",
    "#     out_lyr = out_ds.CreateLayer(baseName, shp_lyr.GetSpatialRef())\n",
    "#     out_lyr.CreateFields(shp_lyr.schema)\n",
    "#     out_feat = ogr.Feature(out_lyr.GetLayerDefn())\n",
    "\n",
    "#     # 生成结果文件\n",
    "#     for feature in shp_lyr:\n",
    "#         out_feat.SetGeometry(feature.geometry())\n",
    "#         for j in range(feature.GetFieldCount()):\n",
    "#             out_feat.SetField(j, feature.GetField(j))\n",
    "#         out_lyr.CreateFeature(out_feat)\n",
    "\n",
    "#     del out_ds\n",
    "#     del shp_ds\n",
    "#     print(\"Success........\")\n",
    "    \n",
    "# ChangeToJson(r\"E:/paper/data/原始数据/历年行政区划数据/test/县.shp\", r\"E:/paper/data/原始数据/历年行政区划数据/output\")"
   ]
  },
  {
   "cell_type": "code",
   "execution_count": 13,
   "metadata": {},
   "outputs": [
    {
     "name": "stdout",
     "output_type": "stream",
     "text": [
      "Starting........\n"
     ]
    },
    {
     "ename": "AttributeError",
     "evalue": "'NoneType' object has no attribute 'GetLayer'",
     "output_type": "error",
     "traceback": [
      "\u001b[1;31m---------------------------------------------------------------------------\u001b[0m",
      "\u001b[1;31mAttributeError\u001b[0m                            Traceback (most recent call last)",
      "\u001b[1;32m<ipython-input-13-f5b0de651c6f>\u001b[0m in \u001b[0;36m<module>\u001b[1;34m\u001b[0m\n\u001b[1;32m----> 1\u001b[1;33m \u001b[0mChangeToJson\u001b[0m\u001b[1;33m(\u001b[0m\u001b[1;34mr\"E:\\paper\\data\\原始数据\\历年行政区划数据\\test\\县.shp\"\u001b[0m\u001b[1;33m,\u001b[0m \u001b[1;34mr\"E:\\paper\\data\\原始数据\\历年行政区划数据\\output\"\u001b[0m\u001b[1;33m)\u001b[0m\u001b[1;33m\u001b[0m\u001b[1;33m\u001b[0m\u001b[0m\n\u001b[0m",
      "\u001b[1;32m<ipython-input-8-0f694c9e7645>\u001b[0m in \u001b[0;36mChangeToJson\u001b[1;34m(vector, output)\u001b[0m\n\u001b[0;32m     11\u001b[0m     \u001b[0mout_driver\u001b[0m \u001b[1;33m=\u001b[0m \u001b[0mogr\u001b[0m\u001b[1;33m.\u001b[0m\u001b[0mGetDriverByName\u001b[0m\u001b[1;33m(\u001b[0m\u001b[1;34m'GeoJSON'\u001b[0m\u001b[1;33m)\u001b[0m\u001b[1;33m\u001b[0m\u001b[1;33m\u001b[0m\u001b[0m\n\u001b[0;32m     12\u001b[0m     \u001b[0mout_ds\u001b[0m \u001b[1;33m=\u001b[0m \u001b[0mout_driver\u001b[0m\u001b[1;33m.\u001b[0m\u001b[0mCreateDataSource\u001b[0m\u001b[1;33m(\u001b[0m\u001b[0moutput\u001b[0m\u001b[1;33m+\u001b[0m\u001b[1;34m'/outjson.json'\u001b[0m\u001b[1;33m)\u001b[0m\u001b[1;33m\u001b[0m\u001b[1;33m\u001b[0m\u001b[0m\n\u001b[1;32m---> 13\u001b[1;33m     \u001b[1;32mif\u001b[0m \u001b[0mout_ds\u001b[0m\u001b[1;33m.\u001b[0m\u001b[0mGetLayer\u001b[0m\u001b[1;33m(\u001b[0m\u001b[0mbaseName\u001b[0m\u001b[1;33m)\u001b[0m\u001b[1;33m:\u001b[0m\u001b[1;33m\u001b[0m\u001b[1;33m\u001b[0m\u001b[0m\n\u001b[0m\u001b[0;32m     14\u001b[0m         \u001b[0mout_ds\u001b[0m\u001b[1;33m.\u001b[0m\u001b[0mDeleteLayer\u001b[0m\u001b[1;33m(\u001b[0m\u001b[0mbaseName\u001b[0m\u001b[1;33m)\u001b[0m\u001b[1;33m\u001b[0m\u001b[1;33m\u001b[0m\u001b[0m\n\u001b[0;32m     15\u001b[0m     \u001b[0mout_lyr\u001b[0m \u001b[1;33m=\u001b[0m \u001b[0mout_ds\u001b[0m\u001b[1;33m.\u001b[0m\u001b[0mCreateLayer\u001b[0m\u001b[1;33m(\u001b[0m\u001b[0mbaseName\u001b[0m\u001b[1;33m,\u001b[0m \u001b[0mshp_lyr\u001b[0m\u001b[1;33m.\u001b[0m\u001b[0mGetSpatialRef\u001b[0m\u001b[1;33m(\u001b[0m\u001b[1;33m)\u001b[0m\u001b[1;33m)\u001b[0m\u001b[1;33m\u001b[0m\u001b[1;33m\u001b[0m\u001b[0m\n",
      "\u001b[1;31mAttributeError\u001b[0m: 'NoneType' object has no attribute 'GetLayer'"
     ]
    }
   ],
   "source": []
  },
  {
   "cell_type": "code",
   "execution_count": 5,
   "metadata": {},
   "outputs": [
    {
     "name": "stdout",
     "output_type": "stream",
     "text": [
      "start:  E:\\paper\\data\\原始数据\\基础地理信息数据\\南京市1_25公众版 现势性2015  2019年公众版\\shp\\aanp.shp\n",
      "success\n",
      "start:  E:\\paper\\data\\原始数据\\基础地理信息数据\\南京市1_25公众版 现势性2015  2019年公众版\\shp\\agnp.shp\n",
      "success\n",
      "start:  E:\\paper\\data\\原始数据\\基础地理信息数据\\南京市1_25公众版 现势性2015  2019年公众版\\shp\\hyda.shp\n",
      "success\n",
      "start:  E:\\paper\\data\\原始数据\\基础地理信息数据\\南京市1_25公众版 现势性2015  2019年公众版\\shp\\hydl.shp\n",
      "success\n",
      "start:  E:\\paper\\data\\原始数据\\基础地理信息数据\\南京市1_25公众版 现势性2015  2019年公众版\\shp\\hydp.shp\n",
      "success\n",
      "start:  E:\\paper\\data\\原始数据\\基础地理信息数据\\南京市1_25公众版 现势性2015  2019年公众版\\shp\\lrdl.shp\n",
      "success\n",
      "start:  E:\\paper\\data\\原始数据\\基础地理信息数据\\南京市1_25公众版 现势性2015  2019年公众版\\shp\\lrrl.shp\n",
      "success\n",
      "start:  E:\\paper\\data\\原始数据\\基础地理信息数据\\南京市1_25公众版 现势性2015  2019年公众版\\shp\\resa.shp\n",
      "success\n",
      "start:  E:\\paper\\data\\原始数据\\基础地理信息数据\\南京市1_25公众版 现势性2015  2019年公众版\\shp\\resp.shp\n",
      "success\n"
     ]
    }
   ],
   "source": [
    "# 使用 mapshaper 命令行的方式转换\n",
    "# 命令行形式：mapshaper -i encoding='GBK' E:\\paper\\data\\原始数据\\历年行政区划数据\\city_shp\\1949.shp -o E:\\paper\\data\\原始数据\\历年行政区划数据\\city_geojson format=geojson\n",
    "import os\n",
    "import glob\n",
    "import subprocess\n",
    "\n",
    "src_dir = r'E:\\paper\\data\\原始数据\\基础地理信息数据\\南京市1_25公众版 现势性2015  2019年公众版\\shp'\n",
    "\n",
    "# 批量转换 shp\n",
    "files = glob.glob(src_dir + '\\\\*.shp', recursive=True)\n",
    "\n",
    "for file in files:\n",
    "  print('start: ', file)\n",
    "  cmd = 'mapshaper '\n",
    "  outputDir = src_dir.replace('shp', 'geojson')\n",
    "  if not os.path.exists(outputDir):\n",
    "    os.makedirs(outputDir)\n",
    "  cmd = 'mapshaper -i encoding=\"utf-8\" ' + file + ' -o ' + outputDir + ' format=geojson'\n",
    "  # print(cmd)\n",
    "  p = subprocess.Popen(cmd, shell=True, stdout=subprocess.PIPE, stderr=subprocess.STDOUT)\n",
    "  p.wait()\n",
    "  print('success')\n",
    "\n",
    "\n"
   ]
  },
  {
   "cell_type": "code",
   "execution_count": 24,
   "metadata": {},
   "outputs": [
    {
     "name": "stdout",
     "output_type": "stream",
     "text": [
      "['E:\\\\paper\\\\data\\\\原始数据\\\\历年行政区划数据\\\\output\\\\2019\\\\县.json', 'E:\\\\paper\\\\data\\\\原始数据\\\\历年行政区划数据\\\\output\\\\2019\\\\市.json', 'E:\\\\paper\\\\data\\\\原始数据\\\\历年行政区划数据\\\\output\\\\2019\\\\省.json', 'E:\\\\paper\\\\data\\\\原始数据\\\\历年行政区划数据\\\\output\\\\2020\\\\县.json', 'E:\\\\paper\\\\data\\\\原始数据\\\\历年行政区划数据\\\\output\\\\2020\\\\市.json', 'E:\\\\paper\\\\data\\\\原始数据\\\\历年行政区划数据\\\\output\\\\2020\\\\省.json', 'E:\\\\paper\\\\data\\\\原始数据\\\\历年行政区划数据\\\\output\\\\2021\\\\县.json', 'E:\\\\paper\\\\data\\\\原始数据\\\\历年行政区划数据\\\\output\\\\2021\\\\市.json', 'E:\\\\paper\\\\data\\\\原始数据\\\\历年行政区划数据\\\\output\\\\2021\\\\省.json']\n"
     ]
    }
   ],
   "source": [
    "# 批量编辑 json 文件\n",
    "import json\n",
    "json_dir = r'E:\\paper\\data\\原始数据\\历年行政区划数据\\output'\n",
    "\n",
    "# 批量转换 shp\n",
    "json_files = glob.glob(json_dir + '\\\\**\\\\*.json', recursive= True)\n",
    "for file in json_files:\n",
    "  with open(file, encoding='utf-8') as json_file:\n",
    "    data = json.load(json_file)\n",
    "    \n"
   ]
  }
 ],
 "metadata": {
  "kernelspec": {
   "display_name": "py36",
   "language": "python",
   "name": "python3"
  },
  "language_info": {
   "codemirror_mode": {
    "name": "ipython",
    "version": 3
   },
   "file_extension": ".py",
   "mimetype": "text/x-python",
   "name": "python",
   "nbconvert_exporter": "python",
   "pygments_lexer": "ipython3",
   "version": "3.6.15"
  },
  "orig_nbformat": 4,
  "vscode": {
   "interpreter": {
    "hash": "862103ac4b8e87f5fa18e9ea732577a688c0ee1a2ce2a2618b16e9a563df3005"
   }
  }
 },
 "nbformat": 4,
 "nbformat_minor": 2
}
