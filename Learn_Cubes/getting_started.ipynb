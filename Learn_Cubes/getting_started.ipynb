{
 "cells": [
  {
   "cell_type": "code",
   "execution_count": 1,
   "metadata": {},
   "outputs": [],
   "source": [
    "import sqlalchemy\n",
    "import cubes.tutorial.sql as tutorial\n"
   ]
  },
  {
   "cell_type": "code",
   "execution_count": 3,
   "metadata": {},
   "outputs": [],
   "source": [
    "engine = sqlalchemy.create_engine('sqlite:///data.sqlite:')\n"
   ]
  },
  {
   "cell_type": "code",
   "execution_count": 4,
   "metadata": {},
   "outputs": [
    {
     "ename": "OperationalError",
     "evalue": "(sqlite3.OperationalError) unable to open database file\n(Background on this error at: http://sqlalche.me/e/13/e3q8)",
     "output_type": "error",
     "traceback": [
      "\u001b[1;31m---------------------------------------------------------------------------\u001b[0m",
      "\u001b[1;31mOperationalError\u001b[0m                          Traceback (most recent call last)",
      "File \u001b[1;32mf:\\Anaconda3\\lib\\site-packages\\sqlalchemy\\engine\\base.py:2339\u001b[0m, in \u001b[0;36mEngine._wrap_pool_connect\u001b[1;34m(self, fn, connection)\u001b[0m\n\u001b[0;32m   2338\u001b[0m \u001b[39mtry\u001b[39;00m:\n\u001b[1;32m-> 2339\u001b[0m     \u001b[39mreturn\u001b[39;00m fn()\n\u001b[0;32m   2340\u001b[0m \u001b[39mexcept\u001b[39;00m dialect\u001b[39m.\u001b[39mdbapi\u001b[39m.\u001b[39mError \u001b[39mas\u001b[39;00m e:\n",
      "File \u001b[1;32mf:\\Anaconda3\\lib\\site-packages\\sqlalchemy\\pool\\base.py:364\u001b[0m, in \u001b[0;36mPool.connect\u001b[1;34m(self)\u001b[0m\n\u001b[0;32m    363\u001b[0m \u001b[39mif\u001b[39;00m \u001b[39mnot\u001b[39;00m \u001b[39mself\u001b[39m\u001b[39m.\u001b[39m_use_threadlocal:\n\u001b[1;32m--> 364\u001b[0m     \u001b[39mreturn\u001b[39;00m _ConnectionFairy\u001b[39m.\u001b[39;49m_checkout(\u001b[39mself\u001b[39;49m)\n\u001b[0;32m    366\u001b[0m \u001b[39mtry\u001b[39;00m:\n",
      "File \u001b[1;32mf:\\Anaconda3\\lib\\site-packages\\sqlalchemy\\pool\\base.py:778\u001b[0m, in \u001b[0;36m_ConnectionFairy._checkout\u001b[1;34m(cls, pool, threadconns, fairy)\u001b[0m\n\u001b[0;32m    777\u001b[0m \u001b[39mif\u001b[39;00m \u001b[39mnot\u001b[39;00m fairy:\n\u001b[1;32m--> 778\u001b[0m     fairy \u001b[39m=\u001b[39m _ConnectionRecord\u001b[39m.\u001b[39;49mcheckout(pool)\n\u001b[0;32m    780\u001b[0m     fairy\u001b[39m.\u001b[39m_pool \u001b[39m=\u001b[39m pool\n",
      "File \u001b[1;32mf:\\Anaconda3\\lib\\site-packages\\sqlalchemy\\pool\\base.py:495\u001b[0m, in \u001b[0;36m_ConnectionRecord.checkout\u001b[1;34m(cls, pool)\u001b[0m\n\u001b[0;32m    493\u001b[0m \u001b[39m@classmethod\u001b[39m\n\u001b[0;32m    494\u001b[0m \u001b[39mdef\u001b[39;00m \u001b[39mcheckout\u001b[39m(\u001b[39mcls\u001b[39m, pool):\n\u001b[1;32m--> 495\u001b[0m     rec \u001b[39m=\u001b[39m pool\u001b[39m.\u001b[39;49m_do_get()\n\u001b[0;32m    496\u001b[0m     \u001b[39mtry\u001b[39;00m:\n",
      "File \u001b[1;32mf:\\Anaconda3\\lib\\site-packages\\sqlalchemy\\pool\\impl.py:239\u001b[0m, in \u001b[0;36mNullPool._do_get\u001b[1;34m(self)\u001b[0m\n\u001b[0;32m    238\u001b[0m \u001b[39mdef\u001b[39;00m \u001b[39m_do_get\u001b[39m(\u001b[39mself\u001b[39m):\n\u001b[1;32m--> 239\u001b[0m     \u001b[39mreturn\u001b[39;00m \u001b[39mself\u001b[39;49m\u001b[39m.\u001b[39;49m_create_connection()\n",
      "File \u001b[1;32mf:\\Anaconda3\\lib\\site-packages\\sqlalchemy\\pool\\base.py:309\u001b[0m, in \u001b[0;36mPool._create_connection\u001b[1;34m(self)\u001b[0m\n\u001b[0;32m    307\u001b[0m \u001b[39m\"\"\"Called by subclasses to create a new ConnectionRecord.\"\"\"\u001b[39;00m\n\u001b[1;32m--> 309\u001b[0m \u001b[39mreturn\u001b[39;00m _ConnectionRecord(\u001b[39mself\u001b[39;49m)\n",
      "File \u001b[1;32mf:\\Anaconda3\\lib\\site-packages\\sqlalchemy\\pool\\base.py:440\u001b[0m, in \u001b[0;36m_ConnectionRecord.__init__\u001b[1;34m(self, pool, connect)\u001b[0m\n\u001b[0;32m    439\u001b[0m \u001b[39mif\u001b[39;00m connect:\n\u001b[1;32m--> 440\u001b[0m     \u001b[39mself\u001b[39;49m\u001b[39m.\u001b[39;49m__connect(first_connect_check\u001b[39m=\u001b[39;49m\u001b[39mTrue\u001b[39;49;00m)\n\u001b[0;32m    441\u001b[0m \u001b[39mself\u001b[39m\u001b[39m.\u001b[39mfinalize_callback \u001b[39m=\u001b[39m deque()\n",
      "File \u001b[1;32mf:\\Anaconda3\\lib\\site-packages\\sqlalchemy\\pool\\base.py:661\u001b[0m, in \u001b[0;36m_ConnectionRecord.__connect\u001b[1;34m(self, first_connect_check)\u001b[0m\n\u001b[0;32m    660\u001b[0m     \u001b[39mwith\u001b[39;00m util\u001b[39m.\u001b[39msafe_reraise():\n\u001b[1;32m--> 661\u001b[0m         pool\u001b[39m.\u001b[39mlogger\u001b[39m.\u001b[39mdebug(\u001b[39m\"\u001b[39m\u001b[39mError on connect(): \u001b[39m\u001b[39m%s\u001b[39;00m\u001b[39m\"\u001b[39m, e)\n\u001b[0;32m    662\u001b[0m \u001b[39melse\u001b[39;00m:\n",
      "File \u001b[1;32mf:\\Anaconda3\\lib\\site-packages\\sqlalchemy\\util\\langhelpers.py:68\u001b[0m, in \u001b[0;36msafe_reraise.__exit__\u001b[1;34m(self, type_, value, traceback)\u001b[0m\n\u001b[0;32m     67\u001b[0m     \u001b[39mif\u001b[39;00m \u001b[39mnot\u001b[39;00m \u001b[39mself\u001b[39m\u001b[39m.\u001b[39mwarn_only:\n\u001b[1;32m---> 68\u001b[0m         compat\u001b[39m.\u001b[39;49mraise_(\n\u001b[0;32m     69\u001b[0m             exc_value, with_traceback\u001b[39m=\u001b[39;49mexc_tb,\n\u001b[0;32m     70\u001b[0m         )\n\u001b[0;32m     71\u001b[0m \u001b[39melse\u001b[39;00m:\n",
      "File \u001b[1;32mf:\\Anaconda3\\lib\\site-packages\\sqlalchemy\\util\\compat.py:178\u001b[0m, in \u001b[0;36mraise_\u001b[1;34m(***failed resolving arguments***)\u001b[0m\n\u001b[0;32m    177\u001b[0m \u001b[39mtry\u001b[39;00m:\n\u001b[1;32m--> 178\u001b[0m     \u001b[39mraise\u001b[39;00m exception\n\u001b[0;32m    179\u001b[0m \u001b[39mfinally\u001b[39;00m:\n\u001b[0;32m    180\u001b[0m     \u001b[39m# credit to\u001b[39;00m\n\u001b[0;32m    181\u001b[0m     \u001b[39m# https://cosmicpercolator.com/2016/01/13/exception-leaks-in-python-2-and-3/\u001b[39;00m\n\u001b[0;32m    182\u001b[0m     \u001b[39m# as the __traceback__ object creates a cycle\u001b[39;00m\n",
      "File \u001b[1;32mf:\\Anaconda3\\lib\\site-packages\\sqlalchemy\\pool\\base.py:656\u001b[0m, in \u001b[0;36m_ConnectionRecord.__connect\u001b[1;34m(self, first_connect_check)\u001b[0m\n\u001b[0;32m    655\u001b[0m \u001b[39mself\u001b[39m\u001b[39m.\u001b[39mstarttime \u001b[39m=\u001b[39m time\u001b[39m.\u001b[39mtime()\n\u001b[1;32m--> 656\u001b[0m connection \u001b[39m=\u001b[39m pool\u001b[39m.\u001b[39;49m_invoke_creator(\u001b[39mself\u001b[39;49m)\n\u001b[0;32m    657\u001b[0m pool\u001b[39m.\u001b[39mlogger\u001b[39m.\u001b[39mdebug(\u001b[39m\"\u001b[39m\u001b[39mCreated new connection \u001b[39m\u001b[39m%r\u001b[39;00m\u001b[39m\"\u001b[39m, connection)\n",
      "File \u001b[1;32mf:\\Anaconda3\\lib\\site-packages\\sqlalchemy\\engine\\strategies.py:114\u001b[0m, in \u001b[0;36mDefaultEngineStrategy.create.<locals>.connect\u001b[1;34m(connection_record)\u001b[0m\n\u001b[0;32m    113\u001b[0m             \u001b[39mreturn\u001b[39;00m connection\n\u001b[1;32m--> 114\u001b[0m \u001b[39mreturn\u001b[39;00m dialect\u001b[39m.\u001b[39;49mconnect(\u001b[39m*\u001b[39;49mcargs, \u001b[39m*\u001b[39;49m\u001b[39m*\u001b[39;49mcparams)\n",
      "File \u001b[1;32mf:\\Anaconda3\\lib\\site-packages\\sqlalchemy\\engine\\default.py:493\u001b[0m, in \u001b[0;36mDefaultDialect.connect\u001b[1;34m(self, *cargs, **cparams)\u001b[0m\n\u001b[0;32m    491\u001b[0m \u001b[39mdef\u001b[39;00m \u001b[39mconnect\u001b[39m(\u001b[39mself\u001b[39m, \u001b[39m*\u001b[39mcargs, \u001b[39m*\u001b[39m\u001b[39m*\u001b[39mcparams):\n\u001b[0;32m    492\u001b[0m     \u001b[39m# inherits the docstring from interfaces.Dialect.connect\u001b[39;00m\n\u001b[1;32m--> 493\u001b[0m     \u001b[39mreturn\u001b[39;00m \u001b[39mself\u001b[39;49m\u001b[39m.\u001b[39;49mdbapi\u001b[39m.\u001b[39;49mconnect(\u001b[39m*\u001b[39;49mcargs, \u001b[39m*\u001b[39;49m\u001b[39m*\u001b[39;49mcparams)\n",
      "\u001b[1;31mOperationalError\u001b[0m: unable to open database file",
      "\nThe above exception was the direct cause of the following exception:\n",
      "\u001b[1;31mOperationalError\u001b[0m                          Traceback (most recent call last)",
      "Cell \u001b[1;32mIn[4], line 3\u001b[0m\n\u001b[0;32m      1\u001b[0m \u001b[39mfrom\u001b[39;00m \u001b[39mcubes\u001b[39;00m\u001b[39m.\u001b[39;00m\u001b[39mtutorial\u001b[39;00m\u001b[39m.\u001b[39;00m\u001b[39msql\u001b[39;00m \u001b[39mimport\u001b[39;00m create_table_from_csv\n\u001b[1;32m----> 3\u001b[0m create_table_from_csv(engine, \u001b[39m\"\u001b[39;49m\u001b[39mIBRD_Balance_Sheet__FY2010.csv\u001b[39;49m\u001b[39m\"\u001b[39;49m,\n\u001b[0;32m      4\u001b[0m                                 table_name\u001b[39m=\u001b[39;49m\u001b[39m'\u001b[39;49m\u001b[39mirdb_balance\u001b[39;49m\u001b[39m'\u001b[39;49m, fields\u001b[39m=\u001b[39;49m[\n\u001b[0;32m      5\u001b[0m                                 (\u001b[39m'\u001b[39;49m\u001b[39mcategory\u001b[39;49m\u001b[39m'\u001b[39;49m, \u001b[39m'\u001b[39;49m\u001b[39mstring\u001b[39;49m\u001b[39m'\u001b[39;49m),\n\u001b[0;32m      6\u001b[0m                                 (\u001b[39m'\u001b[39;49m\u001b[39mcategory_label\u001b[39;49m\u001b[39m'\u001b[39;49m, \u001b[39m'\u001b[39;49m\u001b[39mstring\u001b[39;49m\u001b[39m'\u001b[39;49m),\n\u001b[0;32m      7\u001b[0m                                 (\u001b[39m'\u001b[39;49m\u001b[39msubcategory\u001b[39;49m\u001b[39m'\u001b[39;49m, \u001b[39m'\u001b[39;49m\u001b[39mstring\u001b[39;49m\u001b[39m'\u001b[39;49m),\n\u001b[0;32m      8\u001b[0m                                 (\u001b[39m'\u001b[39;49m\u001b[39msubcategory_label\u001b[39;49m\u001b[39m'\u001b[39;49m, \u001b[39m'\u001b[39;49m\u001b[39mstring\u001b[39;49m\u001b[39m'\u001b[39;49m),\n\u001b[0;32m      9\u001b[0m                                 (\u001b[39m'\u001b[39;49m\u001b[39mline_item\u001b[39;49m\u001b[39m'\u001b[39;49m, \u001b[39m'\u001b[39;49m\u001b[39mstring\u001b[39;49m\u001b[39m'\u001b[39;49m),\n\u001b[0;32m     10\u001b[0m                                 (\u001b[39m'\u001b[39;49m\u001b[39myear\u001b[39;49m\u001b[39m'\u001b[39;49m, \u001b[39m'\u001b[39;49m\u001b[39minteger\u001b[39;49m\u001b[39m'\u001b[39;49m),\n\u001b[0;32m     11\u001b[0m                                 (\u001b[39m'\u001b[39;49m\u001b[39mamount\u001b[39;49m\u001b[39m'\u001b[39;49m, \u001b[39m'\u001b[39;49m\u001b[39minteger\u001b[39;49m\u001b[39m'\u001b[39;49m)\n\u001b[0;32m     12\u001b[0m                                 ], create_id\u001b[39m=\u001b[39;49m\u001b[39mTrue\u001b[39;49;00m)\n",
      "File \u001b[1;32mf:\\Anaconda3\\lib\\site-packages\\cubes-1.1-py3.8.egg\\cubes\\tutorial\\sql.py:60\u001b[0m, in \u001b[0;36mcreate_table_from_csv\u001b[1;34m(connectable, file_name, table_name, fields, create_id, schema)\u001b[0m\n\u001b[0;32m     57\u001b[0m metadata \u001b[39m=\u001b[39m sqlalchemy\u001b[39m.\u001b[39mMetaData(bind\u001b[39m=\u001b[39mconnectable)\n\u001b[0;32m     59\u001b[0m table \u001b[39m=\u001b[39m sqlalchemy\u001b[39m.\u001b[39mTable(table_name, metadata, autoload\u001b[39m=\u001b[39m\u001b[39mFalse\u001b[39;00m, schema\u001b[39m=\u001b[39mschema)\n\u001b[1;32m---> 60\u001b[0m \u001b[39mif\u001b[39;00m table\u001b[39m.\u001b[39;49mexists():\n\u001b[0;32m     61\u001b[0m     table\u001b[39m.\u001b[39mdrop(checkfirst\u001b[39m=\u001b[39m\u001b[39mFalse\u001b[39;00m)\n\u001b[0;32m     63\u001b[0m type_map \u001b[39m=\u001b[39m {\u001b[39m\"\u001b[39m\u001b[39minteger\u001b[39m\u001b[39m\"\u001b[39m: sqlalchemy\u001b[39m.\u001b[39mInteger,\n\u001b[0;32m     64\u001b[0m             \u001b[39m\"\u001b[39m\u001b[39mfloat\u001b[39m\u001b[39m\"\u001b[39m: sqlalchemy\u001b[39m.\u001b[39mNumeric,\n\u001b[0;32m     65\u001b[0m             \u001b[39m\"\u001b[39m\u001b[39mstring\u001b[39m\u001b[39m\"\u001b[39m: sqlalchemy\u001b[39m.\u001b[39mString(\u001b[39m256\u001b[39m),\n\u001b[0;32m     66\u001b[0m             \u001b[39m\"\u001b[39m\u001b[39mtext\u001b[39m\u001b[39m\"\u001b[39m: sqlalchemy\u001b[39m.\u001b[39mText,\n\u001b[0;32m     67\u001b[0m             \u001b[39m\"\u001b[39m\u001b[39mdate\u001b[39m\u001b[39m\"\u001b[39m: sqlalchemy\u001b[39m.\u001b[39mText,\n\u001b[0;32m     68\u001b[0m             \u001b[39m\"\u001b[39m\u001b[39mboolean\u001b[39m\u001b[39m\"\u001b[39m: sqlalchemy\u001b[39m.\u001b[39mInteger}\n",
      "File \u001b[1;32mf:\\Anaconda3\\lib\\site-packages\\sqlalchemy\\sql\\schema.py:909\u001b[0m, in \u001b[0;36mTable.exists\u001b[1;34m(self, bind)\u001b[0m\n\u001b[0;32m    906\u001b[0m \u001b[39mif\u001b[39;00m bind \u001b[39mis\u001b[39;00m \u001b[39mNone\u001b[39;00m:\n\u001b[0;32m    907\u001b[0m     bind \u001b[39m=\u001b[39m _bind_or_error(\u001b[39mself\u001b[39m)\n\u001b[1;32m--> 909\u001b[0m \u001b[39mreturn\u001b[39;00m bind\u001b[39m.\u001b[39;49mrun_callable(\n\u001b[0;32m    910\u001b[0m     bind\u001b[39m.\u001b[39;49mdialect\u001b[39m.\u001b[39;49mhas_table, \u001b[39mself\u001b[39;49m\u001b[39m.\u001b[39;49mname, schema\u001b[39m=\u001b[39;49m\u001b[39mself\u001b[39;49m\u001b[39m.\u001b[39;49mschema\n\u001b[0;32m    911\u001b[0m )\n",
      "File \u001b[1;32mf:\\Anaconda3\\lib\\site-packages\\sqlalchemy\\engine\\base.py:2214\u001b[0m, in \u001b[0;36mEngine.run_callable\u001b[1;34m(self, callable_, *args, **kwargs)\u001b[0m\n\u001b[0;32m   2201\u001b[0m \u001b[39mdef\u001b[39;00m \u001b[39mrun_callable\u001b[39m(\u001b[39mself\u001b[39m, callable_, \u001b[39m*\u001b[39margs, \u001b[39m*\u001b[39m\u001b[39m*\u001b[39mkwargs):\n\u001b[0;32m   2202\u001b[0m     \u001b[39mr\u001b[39m\u001b[39m\"\"\"Given a callable object or function, execute it, passing\u001b[39;00m\n\u001b[0;32m   2203\u001b[0m \u001b[39m    a :class:`_engine.Connection` as the first argument.\u001b[39;00m\n\u001b[0;32m   2204\u001b[0m \n\u001b[1;32m   (...)\u001b[0m\n\u001b[0;32m   2212\u001b[0m \n\u001b[0;32m   2213\u001b[0m \u001b[39m    \"\"\"\u001b[39;00m\n\u001b[1;32m-> 2214\u001b[0m     \u001b[39mwith\u001b[39;00m \u001b[39mself\u001b[39;49m\u001b[39m.\u001b[39;49m_contextual_connect() \u001b[39mas\u001b[39;00m conn:\n\u001b[0;32m   2215\u001b[0m         \u001b[39mreturn\u001b[39;00m conn\u001b[39m.\u001b[39mrun_callable(callable_, \u001b[39m*\u001b[39margs, \u001b[39m*\u001b[39m\u001b[39m*\u001b[39mkwargs)\n",
      "File \u001b[1;32mf:\\Anaconda3\\lib\\site-packages\\sqlalchemy\\engine\\base.py:2305\u001b[0m, in \u001b[0;36mEngine._contextual_connect\u001b[1;34m(self, close_with_result, **kwargs)\u001b[0m\n\u001b[0;32m   2302\u001b[0m \u001b[39mdef\u001b[39;00m \u001b[39m_contextual_connect\u001b[39m(\u001b[39mself\u001b[39m, close_with_result\u001b[39m=\u001b[39m\u001b[39mFalse\u001b[39;00m, \u001b[39m*\u001b[39m\u001b[39m*\u001b[39mkwargs):\n\u001b[0;32m   2303\u001b[0m     \u001b[39mreturn\u001b[39;00m \u001b[39mself\u001b[39m\u001b[39m.\u001b[39m_connection_cls(\n\u001b[0;32m   2304\u001b[0m         \u001b[39mself\u001b[39m,\n\u001b[1;32m-> 2305\u001b[0m         \u001b[39mself\u001b[39;49m\u001b[39m.\u001b[39;49m_wrap_pool_connect(\u001b[39mself\u001b[39;49m\u001b[39m.\u001b[39;49mpool\u001b[39m.\u001b[39;49mconnect, \u001b[39mNone\u001b[39;49;00m),\n\u001b[0;32m   2306\u001b[0m         close_with_result\u001b[39m=\u001b[39mclose_with_result,\n\u001b[0;32m   2307\u001b[0m         \u001b[39m*\u001b[39m\u001b[39m*\u001b[39mkwargs\n\u001b[0;32m   2308\u001b[0m     )\n",
      "File \u001b[1;32mf:\\Anaconda3\\lib\\site-packages\\sqlalchemy\\engine\\base.py:2342\u001b[0m, in \u001b[0;36mEngine._wrap_pool_connect\u001b[1;34m(self, fn, connection)\u001b[0m\n\u001b[0;32m   2340\u001b[0m \u001b[39mexcept\u001b[39;00m dialect\u001b[39m.\u001b[39mdbapi\u001b[39m.\u001b[39mError \u001b[39mas\u001b[39;00m e:\n\u001b[0;32m   2341\u001b[0m     \u001b[39mif\u001b[39;00m connection \u001b[39mis\u001b[39;00m \u001b[39mNone\u001b[39;00m:\n\u001b[1;32m-> 2342\u001b[0m         Connection\u001b[39m.\u001b[39;49m_handle_dbapi_exception_noconnection(\n\u001b[0;32m   2343\u001b[0m             e, dialect, \u001b[39mself\u001b[39;49m\n\u001b[0;32m   2344\u001b[0m         )\n\u001b[0;32m   2345\u001b[0m     \u001b[39melse\u001b[39;00m:\n\u001b[0;32m   2346\u001b[0m         util\u001b[39m.\u001b[39mraise_(\n\u001b[0;32m   2347\u001b[0m             sys\u001b[39m.\u001b[39mexc_info()[\u001b[39m1\u001b[39m], with_traceback\u001b[39m=\u001b[39msys\u001b[39m.\u001b[39mexc_info()[\u001b[39m2\u001b[39m]\n\u001b[0;32m   2348\u001b[0m         )\n",
      "File \u001b[1;32mf:\\Anaconda3\\lib\\site-packages\\sqlalchemy\\engine\\base.py:1584\u001b[0m, in \u001b[0;36mConnection._handle_dbapi_exception_noconnection\u001b[1;34m(cls, e, dialect, engine)\u001b[0m\n\u001b[0;32m   1582\u001b[0m     util\u001b[39m.\u001b[39mraise_(newraise, with_traceback\u001b[39m=\u001b[39mexc_info[\u001b[39m2\u001b[39m], from_\u001b[39m=\u001b[39me)\n\u001b[0;32m   1583\u001b[0m \u001b[39melif\u001b[39;00m should_wrap:\n\u001b[1;32m-> 1584\u001b[0m     util\u001b[39m.\u001b[39;49mraise_(\n\u001b[0;32m   1585\u001b[0m         sqlalchemy_exception, with_traceback\u001b[39m=\u001b[39;49mexc_info[\u001b[39m2\u001b[39;49m], from_\u001b[39m=\u001b[39;49me\n\u001b[0;32m   1586\u001b[0m     )\n\u001b[0;32m   1587\u001b[0m \u001b[39melse\u001b[39;00m:\n\u001b[0;32m   1588\u001b[0m     util\u001b[39m.\u001b[39mraise_(exc_info[\u001b[39m1\u001b[39m], with_traceback\u001b[39m=\u001b[39mexc_info[\u001b[39m2\u001b[39m])\n",
      "File \u001b[1;32mf:\\Anaconda3\\lib\\site-packages\\sqlalchemy\\util\\compat.py:178\u001b[0m, in \u001b[0;36mraise_\u001b[1;34m(***failed resolving arguments***)\u001b[0m\n\u001b[0;32m    175\u001b[0m     exception\u001b[39m.\u001b[39m__cause__ \u001b[39m=\u001b[39m replace_context\n\u001b[0;32m    177\u001b[0m \u001b[39mtry\u001b[39;00m:\n\u001b[1;32m--> 178\u001b[0m     \u001b[39mraise\u001b[39;00m exception\n\u001b[0;32m    179\u001b[0m \u001b[39mfinally\u001b[39;00m:\n\u001b[0;32m    180\u001b[0m     \u001b[39m# credit to\u001b[39;00m\n\u001b[0;32m    181\u001b[0m     \u001b[39m# https://cosmicpercolator.com/2016/01/13/exception-leaks-in-python-2-and-3/\u001b[39;00m\n\u001b[0;32m    182\u001b[0m     \u001b[39m# as the __traceback__ object creates a cycle\u001b[39;00m\n\u001b[0;32m    183\u001b[0m     \u001b[39mdel\u001b[39;00m exception, replace_context, from_, with_traceback\n",
      "File \u001b[1;32mf:\\Anaconda3\\lib\\site-packages\\sqlalchemy\\engine\\base.py:2339\u001b[0m, in \u001b[0;36mEngine._wrap_pool_connect\u001b[1;34m(self, fn, connection)\u001b[0m\n\u001b[0;32m   2337\u001b[0m dialect \u001b[39m=\u001b[39m \u001b[39mself\u001b[39m\u001b[39m.\u001b[39mdialect\n\u001b[0;32m   2338\u001b[0m \u001b[39mtry\u001b[39;00m:\n\u001b[1;32m-> 2339\u001b[0m     \u001b[39mreturn\u001b[39;00m fn()\n\u001b[0;32m   2340\u001b[0m \u001b[39mexcept\u001b[39;00m dialect\u001b[39m.\u001b[39mdbapi\u001b[39m.\u001b[39mError \u001b[39mas\u001b[39;00m e:\n\u001b[0;32m   2341\u001b[0m     \u001b[39mif\u001b[39;00m connection \u001b[39mis\u001b[39;00m \u001b[39mNone\u001b[39;00m:\n",
      "File \u001b[1;32mf:\\Anaconda3\\lib\\site-packages\\sqlalchemy\\pool\\base.py:364\u001b[0m, in \u001b[0;36mPool.connect\u001b[1;34m(self)\u001b[0m\n\u001b[0;32m    356\u001b[0m \u001b[39m\"\"\"Return a DBAPI connection from the pool.\u001b[39;00m\n\u001b[0;32m    357\u001b[0m \n\u001b[0;32m    358\u001b[0m \u001b[39mThe connection is instrumented such that when its\u001b[39;00m\n\u001b[1;32m   (...)\u001b[0m\n\u001b[0;32m    361\u001b[0m \n\u001b[0;32m    362\u001b[0m \u001b[39m\"\"\"\u001b[39;00m\n\u001b[0;32m    363\u001b[0m \u001b[39mif\u001b[39;00m \u001b[39mnot\u001b[39;00m \u001b[39mself\u001b[39m\u001b[39m.\u001b[39m_use_threadlocal:\n\u001b[1;32m--> 364\u001b[0m     \u001b[39mreturn\u001b[39;00m _ConnectionFairy\u001b[39m.\u001b[39;49m_checkout(\u001b[39mself\u001b[39;49m)\n\u001b[0;32m    366\u001b[0m \u001b[39mtry\u001b[39;00m:\n\u001b[0;32m    367\u001b[0m     rec \u001b[39m=\u001b[39m \u001b[39mself\u001b[39m\u001b[39m.\u001b[39m_threadconns\u001b[39m.\u001b[39mcurrent()\n",
      "File \u001b[1;32mf:\\Anaconda3\\lib\\site-packages\\sqlalchemy\\pool\\base.py:778\u001b[0m, in \u001b[0;36m_ConnectionFairy._checkout\u001b[1;34m(cls, pool, threadconns, fairy)\u001b[0m\n\u001b[0;32m    775\u001b[0m \u001b[39m@classmethod\u001b[39m\n\u001b[0;32m    776\u001b[0m \u001b[39mdef\u001b[39;00m \u001b[39m_checkout\u001b[39m(\u001b[39mcls\u001b[39m, pool, threadconns\u001b[39m=\u001b[39m\u001b[39mNone\u001b[39;00m, fairy\u001b[39m=\u001b[39m\u001b[39mNone\u001b[39;00m):\n\u001b[0;32m    777\u001b[0m     \u001b[39mif\u001b[39;00m \u001b[39mnot\u001b[39;00m fairy:\n\u001b[1;32m--> 778\u001b[0m         fairy \u001b[39m=\u001b[39m _ConnectionRecord\u001b[39m.\u001b[39;49mcheckout(pool)\n\u001b[0;32m    780\u001b[0m         fairy\u001b[39m.\u001b[39m_pool \u001b[39m=\u001b[39m pool\n\u001b[0;32m    781\u001b[0m         fairy\u001b[39m.\u001b[39m_counter \u001b[39m=\u001b[39m \u001b[39m0\u001b[39m\n",
      "File \u001b[1;32mf:\\Anaconda3\\lib\\site-packages\\sqlalchemy\\pool\\base.py:495\u001b[0m, in \u001b[0;36m_ConnectionRecord.checkout\u001b[1;34m(cls, pool)\u001b[0m\n\u001b[0;32m    493\u001b[0m \u001b[39m@classmethod\u001b[39m\n\u001b[0;32m    494\u001b[0m \u001b[39mdef\u001b[39;00m \u001b[39mcheckout\u001b[39m(\u001b[39mcls\u001b[39m, pool):\n\u001b[1;32m--> 495\u001b[0m     rec \u001b[39m=\u001b[39m pool\u001b[39m.\u001b[39;49m_do_get()\n\u001b[0;32m    496\u001b[0m     \u001b[39mtry\u001b[39;00m:\n\u001b[0;32m    497\u001b[0m         dbapi_connection \u001b[39m=\u001b[39m rec\u001b[39m.\u001b[39mget_connection()\n",
      "File \u001b[1;32mf:\\Anaconda3\\lib\\site-packages\\sqlalchemy\\pool\\impl.py:239\u001b[0m, in \u001b[0;36mNullPool._do_get\u001b[1;34m(self)\u001b[0m\n\u001b[0;32m    238\u001b[0m \u001b[39mdef\u001b[39;00m \u001b[39m_do_get\u001b[39m(\u001b[39mself\u001b[39m):\n\u001b[1;32m--> 239\u001b[0m     \u001b[39mreturn\u001b[39;00m \u001b[39mself\u001b[39;49m\u001b[39m.\u001b[39;49m_create_connection()\n",
      "File \u001b[1;32mf:\\Anaconda3\\lib\\site-packages\\sqlalchemy\\pool\\base.py:309\u001b[0m, in \u001b[0;36mPool._create_connection\u001b[1;34m(self)\u001b[0m\n\u001b[0;32m    306\u001b[0m \u001b[39mdef\u001b[39;00m \u001b[39m_create_connection\u001b[39m(\u001b[39mself\u001b[39m):\n\u001b[0;32m    307\u001b[0m     \u001b[39m\"\"\"Called by subclasses to create a new ConnectionRecord.\"\"\"\u001b[39;00m\n\u001b[1;32m--> 309\u001b[0m     \u001b[39mreturn\u001b[39;00m _ConnectionRecord(\u001b[39mself\u001b[39;49m)\n",
      "File \u001b[1;32mf:\\Anaconda3\\lib\\site-packages\\sqlalchemy\\pool\\base.py:440\u001b[0m, in \u001b[0;36m_ConnectionRecord.__init__\u001b[1;34m(self, pool, connect)\u001b[0m\n\u001b[0;32m    438\u001b[0m \u001b[39mself\u001b[39m\u001b[39m.\u001b[39m__pool \u001b[39m=\u001b[39m pool\n\u001b[0;32m    439\u001b[0m \u001b[39mif\u001b[39;00m connect:\n\u001b[1;32m--> 440\u001b[0m     \u001b[39mself\u001b[39;49m\u001b[39m.\u001b[39;49m__connect(first_connect_check\u001b[39m=\u001b[39;49m\u001b[39mTrue\u001b[39;49;00m)\n\u001b[0;32m    441\u001b[0m \u001b[39mself\u001b[39m\u001b[39m.\u001b[39mfinalize_callback \u001b[39m=\u001b[39m deque()\n",
      "File \u001b[1;32mf:\\Anaconda3\\lib\\site-packages\\sqlalchemy\\pool\\base.py:661\u001b[0m, in \u001b[0;36m_ConnectionRecord.__connect\u001b[1;34m(self, first_connect_check)\u001b[0m\n\u001b[0;32m    659\u001b[0m \u001b[39mexcept\u001b[39;00m \u001b[39mException\u001b[39;00m \u001b[39mas\u001b[39;00m e:\n\u001b[0;32m    660\u001b[0m     \u001b[39mwith\u001b[39;00m util\u001b[39m.\u001b[39msafe_reraise():\n\u001b[1;32m--> 661\u001b[0m         pool\u001b[39m.\u001b[39mlogger\u001b[39m.\u001b[39mdebug(\u001b[39m\"\u001b[39m\u001b[39mError on connect(): \u001b[39m\u001b[39m%s\u001b[39;00m\u001b[39m\"\u001b[39m, e)\n\u001b[0;32m    662\u001b[0m \u001b[39melse\u001b[39;00m:\n\u001b[0;32m    663\u001b[0m     \u001b[39mif\u001b[39;00m first_connect_check:\n",
      "File \u001b[1;32mf:\\Anaconda3\\lib\\site-packages\\sqlalchemy\\util\\langhelpers.py:68\u001b[0m, in \u001b[0;36msafe_reraise.__exit__\u001b[1;34m(self, type_, value, traceback)\u001b[0m\n\u001b[0;32m     66\u001b[0m     \u001b[39mself\u001b[39m\u001b[39m.\u001b[39m_exc_info \u001b[39m=\u001b[39m \u001b[39mNone\u001b[39;00m  \u001b[39m# remove potential circular references\u001b[39;00m\n\u001b[0;32m     67\u001b[0m     \u001b[39mif\u001b[39;00m \u001b[39mnot\u001b[39;00m \u001b[39mself\u001b[39m\u001b[39m.\u001b[39mwarn_only:\n\u001b[1;32m---> 68\u001b[0m         compat\u001b[39m.\u001b[39;49mraise_(\n\u001b[0;32m     69\u001b[0m             exc_value, with_traceback\u001b[39m=\u001b[39;49mexc_tb,\n\u001b[0;32m     70\u001b[0m         )\n\u001b[0;32m     71\u001b[0m \u001b[39melse\u001b[39;00m:\n\u001b[0;32m     72\u001b[0m     \u001b[39mif\u001b[39;00m \u001b[39mnot\u001b[39;00m compat\u001b[39m.\u001b[39mpy3k \u001b[39mand\u001b[39;00m \u001b[39mself\u001b[39m\u001b[39m.\u001b[39m_exc_info \u001b[39mand\u001b[39;00m \u001b[39mself\u001b[39m\u001b[39m.\u001b[39m_exc_info[\u001b[39m1\u001b[39m]:\n\u001b[0;32m     73\u001b[0m         \u001b[39m# emulate Py3K's behavior of telling us when an exception\u001b[39;00m\n\u001b[0;32m     74\u001b[0m         \u001b[39m# occurs in an exception handler.\u001b[39;00m\n",
      "File \u001b[1;32mf:\\Anaconda3\\lib\\site-packages\\sqlalchemy\\util\\compat.py:178\u001b[0m, in \u001b[0;36mraise_\u001b[1;34m(***failed resolving arguments***)\u001b[0m\n\u001b[0;32m    175\u001b[0m     exception\u001b[39m.\u001b[39m__cause__ \u001b[39m=\u001b[39m replace_context\n\u001b[0;32m    177\u001b[0m \u001b[39mtry\u001b[39;00m:\n\u001b[1;32m--> 178\u001b[0m     \u001b[39mraise\u001b[39;00m exception\n\u001b[0;32m    179\u001b[0m \u001b[39mfinally\u001b[39;00m:\n\u001b[0;32m    180\u001b[0m     \u001b[39m# credit to\u001b[39;00m\n\u001b[0;32m    181\u001b[0m     \u001b[39m# https://cosmicpercolator.com/2016/01/13/exception-leaks-in-python-2-and-3/\u001b[39;00m\n\u001b[0;32m    182\u001b[0m     \u001b[39m# as the __traceback__ object creates a cycle\u001b[39;00m\n\u001b[0;32m    183\u001b[0m     \u001b[39mdel\u001b[39;00m exception, replace_context, from_, with_traceback\n",
      "File \u001b[1;32mf:\\Anaconda3\\lib\\site-packages\\sqlalchemy\\pool\\base.py:656\u001b[0m, in \u001b[0;36m_ConnectionRecord.__connect\u001b[1;34m(self, first_connect_check)\u001b[0m\n\u001b[0;32m    654\u001b[0m \u001b[39mtry\u001b[39;00m:\n\u001b[0;32m    655\u001b[0m     \u001b[39mself\u001b[39m\u001b[39m.\u001b[39mstarttime \u001b[39m=\u001b[39m time\u001b[39m.\u001b[39mtime()\n\u001b[1;32m--> 656\u001b[0m     connection \u001b[39m=\u001b[39m pool\u001b[39m.\u001b[39;49m_invoke_creator(\u001b[39mself\u001b[39;49m)\n\u001b[0;32m    657\u001b[0m     pool\u001b[39m.\u001b[39mlogger\u001b[39m.\u001b[39mdebug(\u001b[39m\"\u001b[39m\u001b[39mCreated new connection \u001b[39m\u001b[39m%r\u001b[39;00m\u001b[39m\"\u001b[39m, connection)\n\u001b[0;32m    658\u001b[0m     \u001b[39mself\u001b[39m\u001b[39m.\u001b[39mconnection \u001b[39m=\u001b[39m connection\n",
      "File \u001b[1;32mf:\\Anaconda3\\lib\\site-packages\\sqlalchemy\\engine\\strategies.py:114\u001b[0m, in \u001b[0;36mDefaultEngineStrategy.create.<locals>.connect\u001b[1;34m(connection_record)\u001b[0m\n\u001b[0;32m    112\u001b[0m         \u001b[39mif\u001b[39;00m connection \u001b[39mis\u001b[39;00m \u001b[39mnot\u001b[39;00m \u001b[39mNone\u001b[39;00m:\n\u001b[0;32m    113\u001b[0m             \u001b[39mreturn\u001b[39;00m connection\n\u001b[1;32m--> 114\u001b[0m \u001b[39mreturn\u001b[39;00m dialect\u001b[39m.\u001b[39;49mconnect(\u001b[39m*\u001b[39;49mcargs, \u001b[39m*\u001b[39;49m\u001b[39m*\u001b[39;49mcparams)\n",
      "File \u001b[1;32mf:\\Anaconda3\\lib\\site-packages\\sqlalchemy\\engine\\default.py:493\u001b[0m, in \u001b[0;36mDefaultDialect.connect\u001b[1;34m(self, *cargs, **cparams)\u001b[0m\n\u001b[0;32m    491\u001b[0m \u001b[39mdef\u001b[39;00m \u001b[39mconnect\u001b[39m(\u001b[39mself\u001b[39m, \u001b[39m*\u001b[39mcargs, \u001b[39m*\u001b[39m\u001b[39m*\u001b[39mcparams):\n\u001b[0;32m    492\u001b[0m     \u001b[39m# inherits the docstring from interfaces.Dialect.connect\u001b[39;00m\n\u001b[1;32m--> 493\u001b[0m     \u001b[39mreturn\u001b[39;00m \u001b[39mself\u001b[39;49m\u001b[39m.\u001b[39;49mdbapi\u001b[39m.\u001b[39;49mconnect(\u001b[39m*\u001b[39;49mcargs, \u001b[39m*\u001b[39;49m\u001b[39m*\u001b[39;49mcparams)\n",
      "\u001b[1;31mOperationalError\u001b[0m: (sqlite3.OperationalError) unable to open database file\n(Background on this error at: http://sqlalche.me/e/13/e3q8)"
     ]
    }
   ],
   "source": [
    "\n",
    "from cubes.tutorial.sql import create_table_from_csv\n",
    "\n",
    "create_table_from_csv(engine, \"IBRD_Balance_Sheet__FY2010.csv\",\n",
    "                                table_name='irdb_balance', fields=[\n",
    "                                ('category', 'string'),\n",
    "                                ('category_label', 'string'),\n",
    "                                ('subcategory', 'string'),\n",
    "                                ('subcategory_label', 'string'),\n",
    "                                ('line_item', 'string'),\n",
    "                                ('year', 'integer'),\n",
    "                                ('amount', 'integer')\n",
    "                                ], create_id=True)\n"
   ]
  },
  {
   "cell_type": "code",
   "execution_count": 34,
   "metadata": {},
   "outputs": [],
   "source": [
    "from cubes import Workspace\n",
    "\n",
    "workspace = Workspace()\n",
    "workspace.register_default_store(\"sql\", url=\"sqlite:///data.sqlite\")\n"
   ]
  },
  {
   "cell_type": "code",
   "execution_count": 35,
   "metadata": {},
   "outputs": [],
   "source": [
    "workspace = Workspace(config=\"slicer.ini\")\n"
   ]
  },
  {
   "cell_type": "code",
   "execution_count": 36,
   "metadata": {},
   "outputs": [],
   "source": [
    "workspace.import_model(\"model.json\")\n"
   ]
  },
  {
   "cell_type": "code",
   "execution_count": 37,
   "metadata": {},
   "outputs": [
    {
     "ename": "NoSuchCubeError",
     "evalue": "Unknown cube 'ibrd_balance'",
     "output_type": "error",
     "traceback": [
      "\u001b[1;31m---------------------------------------------------------------------------\u001b[0m",
      "\u001b[1;31mNoSuchCubeError\u001b[0m                           Traceback (most recent call last)",
      "Cell \u001b[1;32mIn[37], line 1\u001b[0m\n\u001b[1;32m----> 1\u001b[0m browser \u001b[39m=\u001b[39m workspace\u001b[39m.\u001b[39;49mbrowser(\u001b[39m\"\u001b[39;49m\u001b[39mibrd_balance\u001b[39;49m\u001b[39m\"\u001b[39;49m)\n",
      "File \u001b[1;32mf:\\Anaconda3\\lib\\site-packages\\cubes-1.1-py3.8.egg\\cubes\\workspace.py:588\u001b[0m, in \u001b[0;36mWorkspace.browser\u001b[1;34m(self, cube, locale, identity)\u001b[0m\n\u001b[0;32m    584\u001b[0m \u001b[39m# TODO: bring back the localization\u001b[39;00m\n\u001b[0;32m    585\u001b[0m \u001b[39m# model = self.localized_model(locale)\u001b[39;00m\n\u001b[0;32m    587\u001b[0m \u001b[39mif\u001b[39;00m \u001b[39misinstance\u001b[39m(cube, compat\u001b[39m.\u001b[39mstring_type):\n\u001b[1;32m--> 588\u001b[0m     cube \u001b[39m=\u001b[39m \u001b[39mself\u001b[39;49m\u001b[39m.\u001b[39;49mcube(cube, identity\u001b[39m=\u001b[39;49midentity)\n\u001b[0;32m    590\u001b[0m locale \u001b[39m=\u001b[39m locale \u001b[39mor\u001b[39;00m cube\u001b[39m.\u001b[39mlocale\n\u001b[0;32m    592\u001b[0m \u001b[39mif\u001b[39;00m \u001b[39misinstance\u001b[39m(cube\u001b[39m.\u001b[39mstore, compat\u001b[39m.\u001b[39mstring_type):\n",
      "File \u001b[1;32mf:\\Anaconda3\\lib\\site-packages\\cubes-1.1-py3.8.egg\\cubes\\workspace.py:530\u001b[0m, in \u001b[0;36mWorkspace.cube\u001b[1;34m(self, ref, identity, locale)\u001b[0m\n\u001b[0;32m    526\u001b[0m     \u001b[39mreturn\u001b[39;00m \u001b[39mself\u001b[39m\u001b[39m.\u001b[39m_cubes[cube_key]\n\u001b[0;32m    528\u001b[0m \u001b[39m# Find the namespace containing the cube – we will need it for linking\u001b[39;00m\n\u001b[0;32m    529\u001b[0m \u001b[39m# later\u001b[39;00m\n\u001b[1;32m--> 530\u001b[0m (namespace, provider, basename) \u001b[39m=\u001b[39m \u001b[39mself\u001b[39;49m\u001b[39m.\u001b[39;49mnamespace\u001b[39m.\u001b[39;49mfind_cube(ref)\n\u001b[0;32m    532\u001b[0m cube \u001b[39m=\u001b[39m provider\u001b[39m.\u001b[39mcube(basename, locale\u001b[39m=\u001b[39mlocale, namespace\u001b[39m=\u001b[39mnamespace)\n\u001b[0;32m    533\u001b[0m cube\u001b[39m.\u001b[39mnamespace \u001b[39m=\u001b[39m namespace\n",
      "File \u001b[1;32mf:\\Anaconda3\\lib\\site-packages\\cubes-1.1-py3.8.egg\\cubes\\namespace.py:110\u001b[0m, in \u001b[0;36mNamespace.find_cube\u001b[1;34m(self, cube_ref)\u001b[0m\n\u001b[0;32m    107\u001b[0m     provider \u001b[39m=\u001b[39m \u001b[39mNone\u001b[39;00m\n\u001b[0;32m    109\u001b[0m \u001b[39mif\u001b[39;00m \u001b[39mnot\u001b[39;00m provider:\n\u001b[1;32m--> 110\u001b[0m     \u001b[39mraise\u001b[39;00m NoSuchCubeError(\u001b[39m\"\u001b[39m\u001b[39mUnknown cube \u001b[39m\u001b[39m'\u001b[39m\u001b[39m{}\u001b[39;00m\u001b[39m'\u001b[39m\u001b[39m\"\u001b[39m\u001b[39m.\u001b[39mformat(cube_ref),\n\u001b[0;32m    111\u001b[0m                           cube_ref)\n\u001b[0;32m    113\u001b[0m \u001b[39mreturn\u001b[39;00m (namespace, provider, basename)\n",
      "\u001b[1;31mNoSuchCubeError\u001b[0m: Unknown cube 'ibrd_balance'"
     ]
    }
   ],
   "source": [
    "browser = workspace.browser(\"ibrd_balance\")\n"
   ]
  },
  {
   "cell_type": "code",
   "execution_count": null,
   "metadata": {},
   "outputs": [],
   "source": []
  }
 ],
 "metadata": {
  "kernelspec": {
   "display_name": "base",
   "language": "python",
   "name": "python3"
  },
  "language_info": {
   "codemirror_mode": {
    "name": "ipython",
    "version": 3
   },
   "file_extension": ".py",
   "mimetype": "text/x-python",
   "name": "python",
   "nbconvert_exporter": "python",
   "pygments_lexer": "ipython3",
   "version": "3.8.3"
  },
  "orig_nbformat": 4
 },
 "nbformat": 4,
 "nbformat_minor": 2
}
