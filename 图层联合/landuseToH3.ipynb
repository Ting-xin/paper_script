{
 "cells": [
  {
   "cell_type": "code",
   "execution_count": 1,
   "metadata": {},
   "outputs": [],
   "source": [
    "# import\n",
    "import warnings\n",
    "warnings.filterwarnings('ignore')\n",
    "\n",
    "import pandas as pd\n",
    "import shapely\n",
    "import rtree\n",
    "import geopandas\n",
    "import xarray as xr\n",
    "from geopandas import GeoDataFrame\n",
    "from shapely.geometry import mapping\n",
    "from shapely.ops import cascaded_union#, unary_union\n",
    "import h3\n",
    "import base64\n",
    "import urllib\n",
    "import tempfile\n",
    "# import matplotlib\n",
    "import matplotlib.pyplot as plt\n",
    "%matplotlib inline\n",
    "\n",
    "#Functions\n",
    "def plot_scatter(df, metric_col, x='lng', y='lat', marker='.', alpha=1, figsize=(16,12), colormap='viridis'):    \n",
    "    df.plot.scatter(x=x, y=y, c=metric_col, title=metric_col\n",
    "                    , edgecolors='none', colormap=colormap, marker=marker, alpha=alpha, figsize=figsize);\n",
    "    plt.xticks([], []); plt.yticks([], [])\n",
    "\n",
    "def aperture_downsampling(df, hex_col, metric_col, coarse_aperture_size):\n",
    "    df_coarse = df.copy()\n",
    "    coarse_hex_col = 'hex{}'.format(coarse_aperture_size)\n",
    "    df_coarse[coarse_hex_col] = df_coarse[hex_col].apply(lambda x: h3.h3_to_parent(x,coarse_aperture_size))\n",
    "    dfc = df_coarse.groupby([coarse_hex_col])[[metric_col,]].mean().reset_index()\n",
    "    dfc['lat'] = dfc[coarse_hex_col].apply(lambda x: h3.h3_to_geo(x)[0])\n",
    "    dfc['lng'] = dfc[coarse_hex_col].apply(lambda x: h3.h3_to_geo(x)[1]) \n",
    "    return dfc\n",
    "\n",
    "def kring_smoothing(df, hex_col, metric_col, k):\n",
    "    dfk = df[[hex_col]] \n",
    "    dfk.index = dfk[hex_col]\n",
    "    dfs =  (dfk[hex_col]\n",
    "                 .apply(lambda x: pd.Series(list(h3.k_ring(x,k)))).stack()\n",
    "                 .to_frame('hexk').reset_index(1, drop=True).reset_index()\n",
    "                 .merge(df[[hex_col,metric_col]]).fillna(0)\n",
    "                 .groupby(['hexk'])[[metric_col]].sum().divide((1 + 3 * k * (k + 1)))\n",
    "                 .reset_index()\n",
    "                 .rename(index=str, columns={\"hexk\": hex_col}))\n",
    "    dfs['lat'] = dfs[hex_col].apply(lambda x: h3.h3_to_geo(x)[0])\n",
    "    dfs['lng'] = dfs[hex_col].apply(lambda x: h3.h3_to_geo(x)[1]) \n",
    "    return dfs\n",
    "\n",
    "def weighted_kring_smoothing(df, hex_col, metric_col, coef):\n",
    "    # normalize the coef\n",
    "    a = []\n",
    "    for k, coe in enumerate(coef):\n",
    "        if k == 0:\n",
    "            a.append(coe)\n",
    "        else:\n",
    "            a.append(k * 6 * coe)\n",
    "    coef = [c / sum(a) for c in coef]\n",
    "    \n",
    "    # weighted smoothing \n",
    "    df_agg = df[[hex_col]]\n",
    "    df_agg['hexk'] = df_agg[hex_col]\n",
    "    df_agg.set_index(hex_col,inplace=True)\n",
    "    temp2 = [df_agg['hexk'].reset_index()]\n",
    "    temp2[-1]['k'] = 0\n",
    "    K=len(coef)-1 \n",
    "    for k in range(1,K+1):\n",
    "        temp2.append((df_agg['hexk']\n",
    "                     .apply(lambda x: pd.Series(list(h3.hex_ring(x,k)))).stack()\n",
    "                     .to_frame('hexk').reset_index(1, drop=True).reset_index()\n",
    "                ))\n",
    "        temp2[-1]['k'] = k\n",
    "    df_all = pd.concat(temp2).merge(df)\n",
    "    df_all[metric_col] = df_all[metric_col]*df_all.k.apply(lambda x:coef[x])\n",
    "    dfs = df_all.groupby('hexk')[[metric_col]].sum().reset_index().rename(index=str, columns={\"hexk\": hex_col})\n",
    "    dfs['lat'] = dfs[hex_col].apply(lambda x: h3.h3_to_geo(x)[0])\n",
    "    dfs['lng'] = dfs[hex_col].apply(lambda x: h3.h3_to_geo(x)[1])\n",
    "    return dfs"
   ]
  },
  {
   "cell_type": "code",
   "execution_count": 3,
   "metadata": {},
   "outputs": [
    {
     "ename": "MemoryError",
     "evalue": "Unable to allocate 28.0 GiB for an array with shape (1, 131361, 228579) and data type uint8",
     "output_type": "error",
     "traceback": [
      "\u001b[1;31m---------------------------------------------------------------------------\u001b[0m",
      "\u001b[1;31mMemoryError\u001b[0m                               Traceback (most recent call last)",
      "Cell \u001b[1;32mIn[3], line 2\u001b[0m\n\u001b[0;32m      1\u001b[0m src_dir \u001b[39m=\u001b[39m \u001b[39mr\u001b[39m\u001b[39m'\u001b[39m\u001b[39mF:\u001b[39m\u001b[39m\\\u001b[39m\u001b[39mDownload\u001b[39m\u001b[39m'\u001b[39m\n\u001b[1;32m----> 2\u001b[0m df \u001b[39m=\u001b[39m (xr\u001b[39m.\u001b[39;49mopen_rasterio(src_dir\u001b[39m+\u001b[39;49m\u001b[39m'\u001b[39;49m\u001b[39m/CLCD_v01_2000.tif\u001b[39;49m\u001b[39m'\u001b[39;49m)\n\u001b[0;32m      3\u001b[0m       \u001b[39m.\u001b[39;49msel(band\u001b[39m=\u001b[39;49m\u001b[39m1\u001b[39;49m)\n\u001b[0;32m      4\u001b[0m       \u001b[39m.\u001b[39;49mto_pandas()\n\u001b[0;32m      5\u001b[0m       \u001b[39m.\u001b[39mstack()\n\u001b[0;32m      6\u001b[0m       \u001b[39m.\u001b[39mreset_index()\n\u001b[0;32m      7\u001b[0m       \u001b[39m.\u001b[39mrename(columns\u001b[39m=\u001b[39m{\u001b[39m'\u001b[39m\u001b[39mx\u001b[39m\u001b[39m'\u001b[39m: \u001b[39m'\u001b[39m\u001b[39mlng\u001b[39m\u001b[39m'\u001b[39m, \u001b[39m'\u001b[39m\u001b[39my\u001b[39m\u001b[39m'\u001b[39m: \u001b[39m'\u001b[39m\u001b[39mlat\u001b[39m\u001b[39m'\u001b[39m, \u001b[39m0\u001b[39m: \u001b[39m'\u001b[39m\u001b[39melevation\u001b[39m\u001b[39m'\u001b[39m}))\n",
      "File \u001b[1;32mf:\\Anaconda3\\lib\\site-packages\\xarray\\core\\dataarray.py:3691\u001b[0m, in \u001b[0;36mDataArray.to_pandas\u001b[1;34m(self)\u001b[0m\n\u001b[0;32m   3686\u001b[0m     \u001b[39mraise\u001b[39;00m \u001b[39mValueError\u001b[39;00m(\n\u001b[0;32m   3687\u001b[0m         \u001b[39mf\u001b[39m\u001b[39m\"\u001b[39m\u001b[39mCannot convert arrays with \u001b[39m\u001b[39m{\u001b[39;00m\u001b[39mself\u001b[39m\u001b[39m.\u001b[39mndim\u001b[39m}\u001b[39;00m\u001b[39m dimensions into \u001b[39m\u001b[39m\"\u001b[39m\n\u001b[0;32m   3688\u001b[0m         \u001b[39m\"\u001b[39m\u001b[39mpandas objects. Requires 2 or fewer dimensions.\u001b[39m\u001b[39m\"\u001b[39m\n\u001b[0;32m   3689\u001b[0m     )\n\u001b[0;32m   3690\u001b[0m indexes \u001b[39m=\u001b[39m [\u001b[39mself\u001b[39m\u001b[39m.\u001b[39mget_index(dim) \u001b[39mfor\u001b[39;00m dim \u001b[39min\u001b[39;00m \u001b[39mself\u001b[39m\u001b[39m.\u001b[39mdims]\n\u001b[1;32m-> 3691\u001b[0m \u001b[39mreturn\u001b[39;00m constructor(\u001b[39mself\u001b[39;49m\u001b[39m.\u001b[39;49mvalues, \u001b[39m*\u001b[39mindexes)\n",
      "File \u001b[1;32mf:\\Anaconda3\\lib\\site-packages\\xarray\\core\\dataarray.py:729\u001b[0m, in \u001b[0;36mDataArray.values\u001b[1;34m(self)\u001b[0m\n\u001b[0;32m    720\u001b[0m \u001b[39m@property\u001b[39m\n\u001b[0;32m    721\u001b[0m \u001b[39mdef\u001b[39;00m \u001b[39mvalues\u001b[39m(\u001b[39mself\u001b[39m) \u001b[39m-\u001b[39m\u001b[39m>\u001b[39m np\u001b[39m.\u001b[39mndarray:\n\u001b[0;32m    722\u001b[0m     \u001b[39m\"\"\"\u001b[39;00m\n\u001b[0;32m    723\u001b[0m \u001b[39m    The array's data as a numpy.ndarray.\u001b[39;00m\n\u001b[0;32m    724\u001b[0m \n\u001b[1;32m   (...)\u001b[0m\n\u001b[0;32m    727\u001b[0m \u001b[39m    type does not support coercion like this (e.g. cupy).\u001b[39;00m\n\u001b[0;32m    728\u001b[0m \u001b[39m    \"\"\"\u001b[39;00m\n\u001b[1;32m--> 729\u001b[0m     \u001b[39mreturn\u001b[39;00m \u001b[39mself\u001b[39;49m\u001b[39m.\u001b[39;49mvariable\u001b[39m.\u001b[39;49mvalues\n",
      "File \u001b[1;32mf:\\Anaconda3\\lib\\site-packages\\xarray\\core\\variable.py:608\u001b[0m, in \u001b[0;36mVariable.values\u001b[1;34m(self)\u001b[0m\n\u001b[0;32m    605\u001b[0m \u001b[39m@property\u001b[39m\n\u001b[0;32m    606\u001b[0m \u001b[39mdef\u001b[39;00m \u001b[39mvalues\u001b[39m(\u001b[39mself\u001b[39m):\n\u001b[0;32m    607\u001b[0m     \u001b[39m\"\"\"The variable's data as a numpy.ndarray\"\"\"\u001b[39;00m\n\u001b[1;32m--> 608\u001b[0m     \u001b[39mreturn\u001b[39;00m _as_array_or_item(\u001b[39mself\u001b[39;49m\u001b[39m.\u001b[39;49m_data)\n",
      "File \u001b[1;32mf:\\Anaconda3\\lib\\site-packages\\xarray\\core\\variable.py:314\u001b[0m, in \u001b[0;36m_as_array_or_item\u001b[1;34m(data)\u001b[0m\n\u001b[0;32m    300\u001b[0m \u001b[39mdef\u001b[39;00m \u001b[39m_as_array_or_item\u001b[39m(data):\n\u001b[0;32m    301\u001b[0m     \u001b[39m\"\"\"Return the given values as a numpy array, or as an individual item if\u001b[39;00m\n\u001b[0;32m    302\u001b[0m \u001b[39m    it's a 0d datetime64 or timedelta64 array.\u001b[39;00m\n\u001b[0;32m    303\u001b[0m \n\u001b[1;32m   (...)\u001b[0m\n\u001b[0;32m    312\u001b[0m \u001b[39m    TODO: remove this (replace with np.asarray) once these issues are fixed\u001b[39;00m\n\u001b[0;32m    313\u001b[0m \u001b[39m    \"\"\"\u001b[39;00m\n\u001b[1;32m--> 314\u001b[0m     data \u001b[39m=\u001b[39m np\u001b[39m.\u001b[39;49masarray(data)\n\u001b[0;32m    315\u001b[0m     \u001b[39mif\u001b[39;00m data\u001b[39m.\u001b[39mndim \u001b[39m==\u001b[39m \u001b[39m0\u001b[39m:\n\u001b[0;32m    316\u001b[0m         \u001b[39mif\u001b[39;00m data\u001b[39m.\u001b[39mdtype\u001b[39m.\u001b[39mkind \u001b[39m==\u001b[39m \u001b[39m\"\u001b[39m\u001b[39mM\u001b[39m\u001b[39m\"\u001b[39m:\n",
      "File \u001b[1;32mf:\\Anaconda3\\lib\\site-packages\\xarray\\core\\indexing.py:653\u001b[0m, in \u001b[0;36mMemoryCachedArray.__array__\u001b[1;34m(self, dtype)\u001b[0m\n\u001b[0;32m    652\u001b[0m \u001b[39mdef\u001b[39;00m \u001b[39m__array__\u001b[39m(\u001b[39mself\u001b[39m, dtype\u001b[39m=\u001b[39m\u001b[39mNone\u001b[39;00m):\n\u001b[1;32m--> 653\u001b[0m     \u001b[39mself\u001b[39;49m\u001b[39m.\u001b[39;49m_ensure_cached()\n\u001b[0;32m    654\u001b[0m     \u001b[39mreturn\u001b[39;00m np\u001b[39m.\u001b[39masarray(\u001b[39mself\u001b[39m\u001b[39m.\u001b[39marray, dtype\u001b[39m=\u001b[39mdtype)\n",
      "File \u001b[1;32mf:\\Anaconda3\\lib\\site-packages\\xarray\\core\\indexing.py:650\u001b[0m, in \u001b[0;36mMemoryCachedArray._ensure_cached\u001b[1;34m(self)\u001b[0m\n\u001b[0;32m    648\u001b[0m \u001b[39mdef\u001b[39;00m \u001b[39m_ensure_cached\u001b[39m(\u001b[39mself\u001b[39m):\n\u001b[0;32m    649\u001b[0m     \u001b[39mif\u001b[39;00m \u001b[39mnot\u001b[39;00m \u001b[39misinstance\u001b[39m(\u001b[39mself\u001b[39m\u001b[39m.\u001b[39marray, NumpyIndexingAdapter):\n\u001b[1;32m--> 650\u001b[0m         \u001b[39mself\u001b[39m\u001b[39m.\u001b[39marray \u001b[39m=\u001b[39m NumpyIndexingAdapter(np\u001b[39m.\u001b[39;49masarray(\u001b[39mself\u001b[39;49m\u001b[39m.\u001b[39;49marray))\n",
      "File \u001b[1;32mf:\\Anaconda3\\lib\\site-packages\\xarray\\core\\indexing.py:623\u001b[0m, in \u001b[0;36mCopyOnWriteArray.__array__\u001b[1;34m(self, dtype)\u001b[0m\n\u001b[0;32m    622\u001b[0m \u001b[39mdef\u001b[39;00m \u001b[39m__array__\u001b[39m(\u001b[39mself\u001b[39m, dtype\u001b[39m=\u001b[39m\u001b[39mNone\u001b[39;00m):\n\u001b[1;32m--> 623\u001b[0m     \u001b[39mreturn\u001b[39;00m np\u001b[39m.\u001b[39;49masarray(\u001b[39mself\u001b[39;49m\u001b[39m.\u001b[39;49marray, dtype\u001b[39m=\u001b[39;49mdtype)\n",
      "File \u001b[1;32mf:\\Anaconda3\\lib\\site-packages\\xarray\\core\\indexing.py:524\u001b[0m, in \u001b[0;36mLazilyIndexedArray.__array__\u001b[1;34m(self, dtype)\u001b[0m\n\u001b[0;32m    522\u001b[0m \u001b[39mdef\u001b[39;00m \u001b[39m__array__\u001b[39m(\u001b[39mself\u001b[39m, dtype\u001b[39m=\u001b[39m\u001b[39mNone\u001b[39;00m):\n\u001b[0;32m    523\u001b[0m     array \u001b[39m=\u001b[39m as_indexable(\u001b[39mself\u001b[39m\u001b[39m.\u001b[39marray)\n\u001b[1;32m--> 524\u001b[0m     \u001b[39mreturn\u001b[39;00m np\u001b[39m.\u001b[39masarray(array[\u001b[39mself\u001b[39;49m\u001b[39m.\u001b[39;49mkey], dtype\u001b[39m=\u001b[39m\u001b[39mNone\u001b[39;00m)\n",
      "File \u001b[1;32mf:\\Anaconda3\\lib\\site-packages\\xarray\\backends\\rasterio_.py:132\u001b[0m, in \u001b[0;36mRasterioArrayWrapper.__getitem__\u001b[1;34m(self, key)\u001b[0m\n\u001b[0;32m    131\u001b[0m \u001b[39mdef\u001b[39;00m \u001b[39m__getitem__\u001b[39m(\u001b[39mself\u001b[39m, key):\n\u001b[1;32m--> 132\u001b[0m     \u001b[39mreturn\u001b[39;00m indexing\u001b[39m.\u001b[39;49mexplicit_indexing_adapter(\n\u001b[0;32m    133\u001b[0m         key, \u001b[39mself\u001b[39;49m\u001b[39m.\u001b[39;49mshape, indexing\u001b[39m.\u001b[39;49mIndexingSupport\u001b[39m.\u001b[39;49mOUTER, \u001b[39mself\u001b[39;49m\u001b[39m.\u001b[39;49m_getitem\n\u001b[0;32m    134\u001b[0m     )\n",
      "File \u001b[1;32mf:\\Anaconda3\\lib\\site-packages\\xarray\\core\\indexing.py:815\u001b[0m, in \u001b[0;36mexplicit_indexing_adapter\u001b[1;34m(key, shape, indexing_support, raw_indexing_method)\u001b[0m\n\u001b[0;32m    793\u001b[0m \u001b[39m\"\"\"Support explicit indexing by delegating to a raw indexing method.\u001b[39;00m\n\u001b[0;32m    794\u001b[0m \n\u001b[0;32m    795\u001b[0m \u001b[39mOuter and/or vectorized indexers are supported by indexing a second time\u001b[39;00m\n\u001b[1;32m   (...)\u001b[0m\n\u001b[0;32m    812\u001b[0m \u001b[39mIndexing result, in the form of a duck numpy-array.\u001b[39;00m\n\u001b[0;32m    813\u001b[0m \u001b[39m\"\"\"\u001b[39;00m\n\u001b[0;32m    814\u001b[0m raw_key, numpy_indices \u001b[39m=\u001b[39m decompose_indexer(key, shape, indexing_support)\n\u001b[1;32m--> 815\u001b[0m result \u001b[39m=\u001b[39m raw_indexing_method(raw_key\u001b[39m.\u001b[39;49mtuple)\n\u001b[0;32m    816\u001b[0m \u001b[39mif\u001b[39;00m numpy_indices\u001b[39m.\u001b[39mtuple:\n\u001b[0;32m    817\u001b[0m     \u001b[39m# index the loaded np.ndarray\u001b[39;00m\n\u001b[0;32m    818\u001b[0m     result \u001b[39m=\u001b[39m NumpyIndexingAdapter(np\u001b[39m.\u001b[39masarray(result))[numpy_indices]\n",
      "File \u001b[1;32mf:\\Anaconda3\\lib\\site-packages\\xarray\\backends\\rasterio_.py:125\u001b[0m, in \u001b[0;36mRasterioArrayWrapper._getitem\u001b[1;34m(self, key)\u001b[0m\n\u001b[0;32m    123\u001b[0m         \u001b[39mif\u001b[39;00m \u001b[39mself\u001b[39m\u001b[39m.\u001b[39mvrt_params \u001b[39mis\u001b[39;00m \u001b[39mnot\u001b[39;00m \u001b[39mNone\u001b[39;00m:\n\u001b[0;32m    124\u001b[0m             riods \u001b[39m=\u001b[39m WarpedVRT(riods, \u001b[39m*\u001b[39m\u001b[39m*\u001b[39m\u001b[39mself\u001b[39m\u001b[39m.\u001b[39mvrt_params)\n\u001b[1;32m--> 125\u001b[0m         out \u001b[39m=\u001b[39m riods\u001b[39m.\u001b[39;49mread(band_key, window\u001b[39m=\u001b[39;49mwindow)\n\u001b[0;32m    127\u001b[0m \u001b[39mif\u001b[39;00m squeeze_axis:\n\u001b[0;32m    128\u001b[0m     out \u001b[39m=\u001b[39m np\u001b[39m.\u001b[39msqueeze(out, axis\u001b[39m=\u001b[39msqueeze_axis)\n",
      "File \u001b[1;32mrasterio\\_io.pyx:588\u001b[0m, in \u001b[0;36mrasterio._io.DatasetReaderBase.read\u001b[1;34m()\u001b[0m\n",
      "\u001b[1;31mMemoryError\u001b[0m: Unable to allocate 28.0 GiB for an array with shape (1, 131361, 228579) and data type uint8"
     ]
    }
   ],
   "source": [
    "src_dir = r'F:\\Download'\n",
    "df = (xr.open_rasterio(src_dir+'/CLCD_v01_2000.tif')\n",
    "      .sel(band=1)\n",
    "      .to_pandas()\n",
    "      .stack()\n",
    "      .reset_index()\n",
    "      .rename(columns={'x': 'lng', 'y': 'lat', 0: 'elevation'}))\n"
   ]
  }
 ],
 "metadata": {
  "kernelspec": {
   "display_name": "Python 3.8.3 ('base')",
   "language": "python",
   "name": "python3"
  },
  "language_info": {
   "codemirror_mode": {
    "name": "ipython",
    "version": 3
   },
   "file_extension": ".py",
   "mimetype": "text/x-python",
   "name": "python",
   "nbconvert_exporter": "python",
   "pygments_lexer": "ipython3",
   "version": "3.8.3 (default, Jul  2 2020, 17:30:36) [MSC v.1916 64 bit (AMD64)]"
  },
  "orig_nbformat": 4,
  "vscode": {
   "interpreter": {
    "hash": "d12a6980af1de3549060b7b451d48d445ec6b4aaeaf0b0e12a509d2182e95745"
   }
  }
 },
 "nbformat": 4,
 "nbformat_minor": 2
}
